{
 "cells": [
  {
   "cell_type": "markdown",
   "id": "4a3d975f-478f-4472-aaad-93c9cff72f17",
   "metadata": {},
   "source": [
    "# Rekursion\n",
    "\n",
    "## was ist Rekursion?\n",
    "Rekursion bedeutet, dass eine Funktion sich selbt aufruft, um ein Problem in kleinere Tielprobleme zu zerlegen und zu lösen.\n",
    "\n",
    "### Typischer Aufbau\n",
    "1. Basisfall (Abbruchbedingung): Verhindert, dass die Rekursion unendlich weiterläuft\n",
    "2. Rekursiver Schritt: Die Funktion ruft sich mit einem \"kleineren\" oder \"einfacheren\" Eingabewert selbst auf.\n",
    "\n",
    "## Beispiel: Fakultät (n!)\n",
    "\n",
    "- Basisfall: 0! = 1\n",
    "- für n > 0: n! = n*(n-1)!"
   ]
  },
  {
   "cell_type": "code",
   "execution_count": 1,
   "id": "991a6ac8-4421-4946-bb24-518411670b73",
   "metadata": {},
   "outputs": [],
   "source": [
    "def fakultaet(n):\n",
    "    if n == 0:\n",
    "        return 1\n",
    "    else:\n",
    "        return n*fakultaet(n-1)"
   ]
  },
  {
   "cell_type": "markdown",
   "id": "43602804-b7b1-4eb0-bd6a-21e36921e46d",
   "metadata": {},
   "source": [
    "# Aufgaben"
   ]
  },
  {
   "cell_type": "markdown",
   "id": "af6de6bf-4469-46ca-84be-e73ed0bfc8ed",
   "metadata": {},
   "source": [
    "#### Aufgabe 1\n",
    "Erstellen Sie eine rekursive Funktion, die die Summe aller Zahlen von 1 bis n berechnet.\n",
    "\n",
    "`Beispiel: summe(3) => 6`"
   ]
  },
  {
   "cell_type": "code",
   "execution_count": null,
   "id": "b04a8ead-05cf-49f2-a4db-512ec24eaeb7",
   "metadata": {},
   "outputs": [],
   "source": []
  },
  {
   "cell_type": "markdown",
   "id": "3636557a-ea4b-4514-bde0-eac868d57958",
   "metadata": {},
   "source": [
    "#### Aufgabe 2\n",
    "Erstellen Sie eine rekursive Funktion, die bestimmt, wie viele Ziffern eine natürliche Zahl hat.\n",
    "\n",
    "`Beispiel: anzahl(2025) => 4`"
   ]
  },
  {
   "cell_type": "code",
   "execution_count": null,
   "id": "ee752858-5d8c-4b6d-aefe-ec9d1158fd60",
   "metadata": {},
   "outputs": [],
   "source": []
  },
  {
   "cell_type": "markdown",
   "id": "575fb54e-9bca-4338-b02f-179f76020f44",
   "metadata": {},
   "source": [
    "#### Aufgabe 3\n",
    "Erstellen Sie eine rekursive Funktion, die einen String rekursiv umkehrt.\n",
    "\n",
    "`Beispiel: spiegel(\"Hallo\") => \"ollaH\"`"
   ]
  },
  {
   "cell_type": "markdown",
   "id": "854bea57-51ec-49c1-8562-ab5dca9a1fa2",
   "metadata": {},
   "source": [
    "#### Zusatzaufgabe Türme von Hanoi\n",
    "**Ziel:**\n",
    "Du hast drei Stäbe (oft A, B, C genannt) und eine Anzahl von Scheiben, die unterschiedlich groß sind und ursprünglich auf Stab A gestapelt sind, von groß unten bis klein oben.\n",
    "\n",
    "- Die Aufgabe ist es, alle Scheiben auf Stab C zu bewegen, wobei folgende Regeln gelten:\n",
    "\n",
    "- Es darf immer nur eine Scheibe gleichzeitig bewegt werden.\n",
    "\n",
    "- Eine Scheibe kann nur auf einen leeren Stab oder auf eine größere Scheibe gelegt werden.\n",
    "\n",
    "- Die Scheiben behalten ihre Größe; du darfst nie eine größere Scheibe auf eine kleinere legen.\n",
    "\n",
    "**Beispiel:** 3 Scheiben auf Stab A.\n",
    "Ziel: Alle auf Stab C\n",
    "\n",
    "Nun stellt sich die Frage: Wie viele Züge brauchst du minimal?"
   ]
  },
  {
   "cell_type": "markdown",
   "id": "1c3daac5-891c-4a44-b19d-ed0b81b467d6",
   "metadata": {},
   "source": [
    " <details>\n",
    "  <summary>Hinweis 1:</summary>\n",
    "  <pre>\n",
    "Für n Scheiben gilt: Minimalanzahl Züge = n^2-1\n",
    "  </pre>\n",
    "</details>"
   ]
  },
  {
   "cell_type": "markdown",
   "id": "63dd9f56-699c-4de5-b58e-048ff2f6a900",
   "metadata": {},
   "source": [
    " <details>\n",
    "  <summary>Hinweis 2:</summary>\n",
    "  <pre>\n",
    "Rekursive Strategie:\n",
    "\n",
    "1. Bewege die oberen n-1 Scheiben von A nach B (Hilfsstab C)\n",
    "\n",
    "2. Bewege die größte Scheibe von A nach C\n",
    "\n",
    "3. Bewege die n-1 Scheiben von B nach C (Hilfsstab A)\n",
    "  </pre>\n",
    "</details>"
   ]
  },
  {
   "cell_type": "code",
   "execution_count": null,
   "id": "7684f483-da82-4a2c-be70-10d744938a6e",
   "metadata": {},
   "outputs": [],
   "source": []
  },
  {
   "cell_type": "markdown",
   "id": "e7f7a784-aa80-44e4-9c3e-3bd81470e1d3",
   "metadata": {},
   "source": [
    " <details>\n",
    "  <summary>Lösung:</summary>\n",
    "  <pre>\n",
    "Für n Scheiben gilt: Minimalanzahl Züge = n^2-1\n",
    "\n",
    "Rekursive Strategie:\n",
    "\n",
    "1. Bewege die oberen n-1 Scheiben von A nach B (Hilfsstab C)\n",
    "\n",
    "2. Bewege die größte Scheibe von A nach C\n",
    "\n",
    "3. Bewege die n-1 Scheiben von B nach C (Hilfsstab A)\n",
    "  </pre>\n",
    "</details>"
   ]
  }
 ],
 "metadata": {
  "kernelspec": {
   "display_name": "Python 3 (ipykernel)",
   "language": "python",
   "name": "python3"
  },
  "language_info": {
   "codemirror_mode": {
    "name": "ipython",
    "version": 3
   },
   "file_extension": ".py",
   "mimetype": "text/x-python",
   "name": "python",
   "nbconvert_exporter": "python",
   "pygments_lexer": "ipython3",
   "version": "3.9.7"
  }
 },
 "nbformat": 4,
 "nbformat_minor": 5
}
