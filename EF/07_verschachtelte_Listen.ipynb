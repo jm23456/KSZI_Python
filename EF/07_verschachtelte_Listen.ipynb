{
 "cells": [
  {
   "cell_type": "markdown",
   "id": "780bd917-91cf-490c-abe2-126242b13107",
   "metadata": {},
   "source": [
    "# Verschachtelte Listen\n",
    "\n",
    "In Python kann eine Liste auch andere Listen als Elemente enthalten. Das nennt man verschachtelte Liste.\n",
    "\n",
    "`Beispiel:`\n",
    "```python\n",
    "matrix =[\n",
    "    [1,2,3],\n",
    "    [4,5,6],\n",
    "    [7,8,9]\n",
    "]\n",
    "```\n",
    "\n",
    "## Zugreifen auf Elemente\n",
    "`matrix` ist der Name der Liste. Mit Indexen, kann man auf die Elemente dieser Liste zugreifen, was in diesem Fall die drei weiteren Listen sind. Also matrix[0] gibt uns das erste Element -> [1,2,3]. \n",
    "\n",
    "Möchte man auf ein Element in dieser Liste zugreifen, verwendet man einen weiteren Index, also matrix[0][1] -> 2 (erste Zeile, zweites Element).\n",
    "\n",
    "Weiteres Beispiel: matrix[2][0] -> 7.\n",
    "\n",
    "### Typische Anwendungsfälle\n",
    "- Matritzen (z.B. Tabellen, Spielfelder, Sudoku)\n",
    "- Bilder oder Koordinatensysteme"
   ]
  },
  {
   "cell_type": "markdown",
   "id": "c2e94de0-6ae4-48d4-ae73-d7a4aec2cf4c",
   "metadata": {},
   "source": [
    "### Aufgabe 1:\n",
    "Gegeben ist die folgende Liste:\n",
    "```python\n",
    "zahlen = [\n",
    "    [3, 5, 7],\n",
    "    [2, 4, 6],\n",
    "    [9, 1, 8]\n",
    "]\n",
    "```\n",
    "- Berechnen sie die Summe aller Zahlen"
   ]
  },
  {
   "cell_type": "code",
   "execution_count": null,
   "id": "e62dba93-53aa-451e-807c-36d6ec0320ab",
   "metadata": {},
   "outputs": [],
   "source": []
  },
  {
   "cell_type": "markdown",
   "id": "1bdd2a69-b3d1-4fa8-9e1e-829a21ec35bc",
   "metadata": {},
   "source": [
    " <details>\n",
    "  <summary>Lösung:</summary>\n",
    "  <pre><code>\n",
    "sum = 0\n",
    "for x in zahlen:\n",
    "    for i in x:\n",
    "        sum += i\n",
    "\n",
    "print(sum)\n",
    "  </code></pre>\n",
    "</details>"
   ]
  },
  {
   "cell_type": "markdown",
   "id": "53836f9f-0a87-4036-9047-ee6a8fc4b27e",
   "metadata": {},
   "source": [
    "- Berechnen sie die Summer der zweiten Zeile."
   ]
  },
  {
   "cell_type": "code",
   "execution_count": null,
   "id": "b67f4464-8381-4970-9322-869261b6097b",
   "metadata": {},
   "outputs": [],
   "source": []
  },
  {
   "cell_type": "markdown",
   "id": "9da3f9bd-912c-45e8-a42a-28e0b1f9058e",
   "metadata": {},
   "source": [
    " <details>\n",
    "  <summary>Lösung:</summary>\n",
    "  <pre><code>\n",
    "sum = 0\n",
    "for x in zahlen[1]:\n",
    "    sum += i\n",
    "\n",
    "print(sum)\n",
    "  </code></pre>\n",
    "</details>"
   ]
  },
  {
   "cell_type": "markdown",
   "id": "43f4be3d-2b2a-492f-b48f-7811f03832fd",
   "metadata": {},
   "source": [
    "- Erstellen Sie eine Funktion, die die grösste Zahl der Liste findet."
   ]
  },
  {
   "cell_type": "code",
   "execution_count": null,
   "id": "8a005ec4-16c1-431a-9f07-7fb571fe06fa",
   "metadata": {},
   "outputs": [],
   "source": []
  },
  {
   "cell_type": "markdown",
   "id": "31a0c605-7a63-4b43-a04b-14dfed3889a6",
   "metadata": {},
   "source": [
    " <details>\n",
    "  <summary>Lösung:</summary>\n",
    "  <pre><code>\n",
    "max = zahlen[0][0]\n",
    "for x in zahlen:\n",
    "    for i in x:\n",
    "        if i > max:\n",
    "            max = i\n",
    "\n",
    "print(max)\n",
    "  </code></pre>\n",
    "</details>"
   ]
  },
  {
   "cell_type": "markdown",
   "id": "285cd861-82bb-49e2-b1cd-1c1ddd15b9e7",
   "metadata": {},
   "source": [
    "### Aufgabe 2:\n",
    "Erstellen Sie eine Funktion, die ein 3x3-Spielfeld ausgibt, auf jedem Feld sollte ein leerer String stehen.\n"
   ]
  },
  {
   "cell_type": "code",
   "execution_count": null,
   "id": "081bc1e3-7080-4765-847f-986cc8e82265",
   "metadata": {},
   "outputs": [],
   "source": []
  },
  {
   "cell_type": "code",
   "execution_count": null,
   "id": "c9d24505-d1f9-4987-9015-1351f4ecb673",
   "metadata": {},
   "outputs": [],
   "source": []
  },
  {
   "cell_type": "markdown",
   "id": "0f92f549-8b71-43df-8287-01fa6ae59d9f",
   "metadata": {},
   "source": [
    " <details>\n",
    "  <summary>Lösung:</summary>\n",
    "  <pre><code>\n",
    "def spielfeld_3x3():\n",
    "    feld = []\n",
    "    for i in range(3):\n",
    "        feld.append([\"\",\"\",\"\"])\n",
    "    for zeile in feld:\n",
    "        print(zeile)\n",
    "\n",
    "spielfeld_3x3()\n",
    "  </code></pre>\n",
    "</details>"
   ]
  },
  {
   "cell_type": "markdown",
   "id": "842eddbe-3ed6-4271-ab47-4222fd4d6900",
   "metadata": {},
   "source": [
    "Schreiben Sie eine weitere Funktion, die an der gewählten Position das Zeichen des Spielers (\"X\" oder \"O\") einträgt, **falls das Feld frei ist**.\n",
    "*Tipp: Versuchen Sie die Funktion wie folgt aufzubauen: spielzug(spielfeld, spieler, zeile, spalte)*"
   ]
  },
  {
   "cell_type": "code",
   "execution_count": null,
   "id": "b90c2044-b9ed-4406-bcbb-df1d22720ea1",
   "metadata": {},
   "outputs": [],
   "source": []
  },
  {
   "cell_type": "markdown",
   "id": "fc214dcc-9737-4b4a-a004-705335737df5",
   "metadata": {},
   "source": [
    " <details>\n",
    "  <summary>Lösung:</summary>\n",
    "  <pre><code>\n",
    "def spielzug(spielfeld, spieler, zeile, spalte):\n",
    "    if spielfeld[zeile][spalte] == \"\":\n",
    "        spielfeld[zeile][spalte] = spieler\n",
    "        return True\n",
    "    else:\n",
    "        print(\"Feld ist bereits belegt!\")\n",
    "        return False\n",
    "  </code></pre>\n",
    "</details>"
   ]
  },
  {
   "cell_type": "markdown",
   "id": "0b301c14-72a2-44ee-97cf-3dd9dd15b6bb",
   "metadata": {},
   "source": [
    "Schreiben Sie eine letzte Funktion pruefe_gewinner(board), die üerprüft, ob ein Spieler drei gleiche Zeichen in einer Reihe, Spalte oder Diagonale hat und somit gewonnen.\n",
    "\n",
    "```python\n",
    "board = [\n",
    "    [\"X\",\"X\",\"X\"],\n",
    "    [\"O\",\" \",\" \"],\n",
    "    [\"O\",\" \",\" \"]\n",
    "]\n",
    "print(pruefe_gewinner(board))\n",
    "```\n",
    "sollte \"X\" ausgeben."
   ]
  },
  {
   "cell_type": "code",
   "execution_count": null,
   "id": "dea428e3-7b75-4c6c-b065-1400cc4e1b6c",
   "metadata": {},
   "outputs": [],
   "source": []
  },
  {
   "cell_type": "markdown",
   "id": "683beb20-11f5-49e0-b99c-436558ef2300",
   "metadata": {},
   "source": [
    " <details>\n",
    "  <summary>Lösung:</summary>\n",
    "  <pre><code>\n",
    "def pruefe_gewinner(board):\n",
    "    # Reihen prüfen\n",
    "    for zeile in board:\n",
    "        if zeile[0] == zeile[1] == zeile[2] != \"\":\n",
    "            return zeile[0]\n",
    "    \n",
    "    # Spalten prüfen\n",
    "    for spalte in range(3):\n",
    "        if board[0][spalte] == board[1][spalte] == board[2][spalte] != \"\":\n",
    "            return board[0][spalte]\n",
    "    \n",
    "    # Diagonalen prüfen\n",
    "    if board[0][0] == board[1][1] == board[2][2] != \"\":\n",
    "        return board[0][0]\n",
    "    if board[0][2] == board[1][1] == board[2][0] != \"\":\n",
    "        return board[0][2]\n",
    "    \n",
    "    # Kein Gewinner\n",
    "    return None\n",
    "  </code></pre>\n",
    "</details>"
   ]
  },
  {
   "cell_type": "markdown",
   "id": "011248c0-64eb-4df6-8889-184e768705ef",
   "metadata": {},
   "source": [
    "Schreiben Sie nun, mit den bereits erstellten Funktionen, eine Funktion spiele_tictactoe(), die:\n",
    "1. Ein leeres Spielfeld erstellen.\n",
    "2. Abwechselnd die Spieler \"X\" und \"O\" nach ihren Zügen fragt.\n",
    "3. Nach jedem Zug das Board ausgibt.\n",
    "4. Stoppt, sobald ein Gewinner gefunden wurde oder das Spielfeld voll ist."
   ]
  },
  {
   "cell_type": "code",
   "execution_count": null,
   "id": "71d08faa-8c9d-4e36-acc6-38b453045c9b",
   "metadata": {},
   "outputs": [],
   "source": []
  },
  {
   "cell_type": "markdown",
   "id": "ae6a2f31-66f0-45dc-a3d0-cd6e204ffb8b",
   "metadata": {},
   "source": [
    " <details>\n",
    "  <summary>Lösung:</summary>\n",
    "  <pre><code>\n",
    "\n",
    "def spielfeld_anzeigen(board):\n",
    "    for zeile in board:\n",
    "        print(\" | \".join([feld if feld != \"\" else \" \" for feld in zeile]))\n",
    "        print(\"-\" * 5)\n",
    "\n",
    "\n",
    "def spiele_tictactoe():\n",
    "    spielfeld_3x3()\n",
    "    spieler = \"X\"\n",
    "    zuege = 0\n",
    "    max_zuege = 9\n",
    "    \n",
    "    while zuege < max_zuege:\n",
    "        spielfeld_anzeigen()\n",
    "        zeile = int(input(\"Zeile (0-2): \"))\n",
    "        spalte = int(input(\"Spalte (0-2): \"))\n",
    "        if zeile not in range(3) or spalte not in range(3):\n",
    "            print(\"Ungültige Koordinaten! Versuche es erneut.\")\n",
    "            continue\n",
    "\n",
    "        if spielzug(board, spieler, zeile, spalte):\n",
    "            zuege += 1\n",
    "            gewinner = pruefe_gewinner(board)\n",
    "            if gewinner:\n",
    "                spielfeld_anzeigen(board)\n",
    "                print(f\"Spieler {gewinner} hat gewonnen!\")\n",
    "                return\n",
    "            # Spieler wechseln\n",
    "            spieler = \"O\" if spieler == \"X\" else \"X\"\n",
    "\n",
    "    spielfeld_anzeigen(board)\n",
    "    print(\"Unentschieden!\")\n",
    "      \n",
    "  </code></pre>\n",
    "</details>"
   ]
  },
  {
   "cell_type": "code",
   "execution_count": null,
   "id": "249581cd-ace0-40e3-a8b1-3fa68b65443c",
   "metadata": {},
   "outputs": [],
   "source": []
  }
 ],
 "metadata": {
  "kernelspec": {
   "display_name": "Python 3 (ipykernel)",
   "language": "python",
   "name": "python3"
  },
  "language_info": {
   "codemirror_mode": {
    "name": "ipython",
    "version": 3
   },
   "file_extension": ".py",
   "mimetype": "text/x-python",
   "name": "python",
   "nbconvert_exporter": "python",
   "pygments_lexer": "ipython3",
   "version": "3.9.7"
  }
 },
 "nbformat": 4,
 "nbformat_minor": 5
}
