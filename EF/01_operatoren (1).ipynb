{
 "cells": [
  {
   "cell_type": "markdown",
   "id": "b206595b-3c0b-4d40-9bf3-618be2a03b2c",
   "metadata": {},
   "source": [
    "# Zahlen und Operatoren"
   ]
  },
  {
   "cell_type": "markdown",
   "id": "0496cd2c-f5f6-477e-b0fe-330d2aef3f7b",
   "metadata": {},
   "source": [
    "#### Zahlen"
   ]
  },
  {
   "cell_type": "markdown",
   "id": "a44464f0-e046-4e3b-813b-f2b65ff346df",
   "metadata": {},
   "source": [
    "Python kennt zwei Arten von Zahlen:\n",
    "\n",
    "**int**: ```Integer - Ganze Zahlen``` \n",
    "\n",
    "**float**: ```Floating Point - Fliesskommazahlen ```"
   ]
  },
  {
   "cell_type": "markdown",
   "id": "8b5c5629-379e-4781-a4a0-e62766a1c243",
   "metadata": {},
   "source": [
    "### Aufgaben: Zahlen"
   ]
  },
  {
   "cell_type": "markdown",
   "id": "f0d0bd6b-702f-4725-884b-47d699926e28",
   "metadata": {},
   "source": [
    "##### Aufgabe 1\n",
    "Was macht die Funktion ```type```?"
   ]
  },
  {
   "cell_type": "code",
   "execution_count": null,
   "id": "5e3a23e7-9daa-478c-8ad1-cef2e0eaed9f",
   "metadata": {},
   "outputs": [],
   "source": [
    "x = 8\n",
    "type(x)"
   ]
  },
  {
   "cell_type": "code",
   "execution_count": null,
   "id": "47fab98f-c6fc-4fa4-9219-4e8688589702",
   "metadata": {},
   "outputs": [],
   "source": [
    "y = 8.0\n",
    "type(y)"
   ]
  },
  {
   "cell_type": "markdown",
   "id": "9a7638f9-8999-482b-aa18-8cef7762fc11",
   "metadata": {},
   "source": [
    " <details>\n",
    "  <summary>Lösung:</summary>\n",
    "  <pre>\n",
    "Die Funktion type() gibt den Datentyp eines Objekts oder Variable zurück.\n",
    "  </pre>\n",
    "</details>"
   ]
  },
  {
   "cell_type": "markdown",
   "id": "3e7ad988-db25-4ce6-b347-800b9f834143",
   "metadata": {},
   "source": [
    "##### Aufgabe 2\n",
    "Was liefert ```type(x+y)``` und wieso?"
   ]
  },
  {
   "cell_type": "markdown",
   "id": "701b0069-7cd4-448f-92c8-6f1505936a41",
   "metadata": {},
   "source": [
    " <details>\n",
    "  <summary>Lösung:</summary>\n",
    "  <pre>\n",
    "Es liefert <class 'float'>, weil bei der Addition eines Integer und einer Floats Python den Integer automatisch in einen Float umwandelt, um den genaueren Daten zu verwenden.\n",
    "  </pre>\n",
    "</details>"
   ]
  },
  {
   "cell_type": "markdown",
   "id": "838b6e65-889d-4a07-b6ac-87465ce0796c",
   "metadata": {},
   "source": [
    "##### Aufgabe 3\n",
    "Welcher der drei untenstehenden Ausdrücke unterscheidet sich von den anderen und wieso?"
   ]
  },
  {
   "cell_type": "code",
   "execution_count": null,
   "id": "a57a8201-76a0-497c-84ec-500586330ee3",
   "metadata": {},
   "outputs": [],
   "source": [
    "3-4*12"
   ]
  },
  {
   "cell_type": "code",
   "execution_count": null,
   "id": "91e4d981-e4e8-44b1-a142-1764b28cda95",
   "metadata": {},
   "outputs": [],
   "source": [
    "(3-4)*12"
   ]
  },
  {
   "cell_type": "code",
   "execution_count": null,
   "id": "12fd2764-c967-4a6a-91d2-a9ec3778b7a6",
   "metadata": {},
   "outputs": [],
   "source": [
    "3-(4*12)"
   ]
  },
  {
   "cell_type": "markdown",
   "id": "8e6abb40-bcd2-4011-abbe-d27411a1839a",
   "metadata": {},
   "source": [
    " <details>\n",
    "  <summary>Lösung:</summary>\n",
    "  <pre>\n",
    "Der mittlere Ausdruck unterscheidet sich von den anderen, weil die Reihenfolge der Berechnungen durch die Klammern geändert wird. Python verfolgt diesselben mathematischen Regeln, die wir auch kennen.\n",
    "  </pre>\n",
    "</details>"
   ]
  },
  {
   "cell_type": "markdown",
   "id": "68048fd6-4866-40c0-a8cc-0019affd9549",
   "metadata": {},
   "source": [
    "#### Operatoren"
   ]
  },
  {
   "cell_type": "markdown",
   "id": "05db8f9f-a69b-4a37-8270-6cb791f9b8ec",
   "metadata": {},
   "source": [
    "Mit Zahlen kann man Rechnungen anstellen, so kennt Python die Grundrechenarten `+`, `-`, `*`, `/`. Daneben existieren noch einige weitere Operatoren womit Berechnungen angestellt werden können:"
   ]
  },
  {
   "cell_type": "markdown",
   "id": "28abd468-7bce-489b-b064-0123a00d4bab",
   "metadata": {},
   "source": [
    "### Aufgaben: Operatoren"
   ]
  },
  {
   "cell_type": "markdown",
   "id": "a446d706-cb8f-4d25-afba-d2eb3731cf5e",
   "metadata": {},
   "source": [
    "##### Aufgabe 1\n",
    "Was ist der Unterschied zwischen `/` und `//`?"
   ]
  },
  {
   "cell_type": "code",
   "execution_count": 1,
   "id": "9716e146-ae28-4a91-99e5-d8c53117e34b",
   "metadata": {},
   "outputs": [
    {
     "data": {
      "text/plain": [
       "0.875"
      ]
     },
     "execution_count": 1,
     "metadata": {},
     "output_type": "execute_result"
    }
   ],
   "source": [
    "7/8"
   ]
  },
  {
   "cell_type": "code",
   "execution_count": 2,
   "id": "89d93d07-87d1-416a-b8c7-f7d4f84b0c5c",
   "metadata": {},
   "outputs": [
    {
     "data": {
      "text/plain": [
       "0"
      ]
     },
     "execution_count": 2,
     "metadata": {},
     "output_type": "execute_result"
    }
   ],
   "source": [
    "7//8"
   ]
  },
  {
   "cell_type": "markdown",
   "id": "4e4b5d63-acf9-4ef8-affd-a775d5bedebc",
   "metadata": {},
   "source": [
    " <details>\n",
    "  <summary>Lösung:</summary>\n",
    "  <pre>\n",
    "`/` gibt das extakte Ergebnis als Float zurück, `//` gibt den abgerundeten ganzzahligen Anteil des Ergebnis zurück.\n",
    "  </pre>\n",
    "</details>"
   ]
  },
  {
   "cell_type": "markdown",
   "id": "015adcbb-30e2-400d-9527-9624d5973634",
   "metadata": {},
   "source": [
    "##### Aufgabe 2\n",
    "Wofür steht der Operator `**`?"
   ]
  },
  {
   "cell_type": "code",
   "execution_count": 3,
   "id": "5f0ea620-9c80-4ad5-9533-137c3882e6b3",
   "metadata": {},
   "outputs": [
    {
     "data": {
      "text/plain": [
       "32"
      ]
     },
     "execution_count": 3,
     "metadata": {},
     "output_type": "execute_result"
    }
   ],
   "source": [
    "2**5"
   ]
  },
  {
   "cell_type": "code",
   "execution_count": 4,
   "id": "bddd1d13-5906-4380-af67-a5decfc70f27",
   "metadata": {},
   "outputs": [
    {
     "data": {
      "text/plain": [
       "1.4142135623730951"
      ]
     },
     "execution_count": 4,
     "metadata": {},
     "output_type": "execute_result"
    }
   ],
   "source": [
    "2**0.5"
   ]
  },
  {
   "cell_type": "markdown",
   "id": "530b3b69-9129-4082-9ec5-8f255ce782f4",
   "metadata": {},
   "source": [
    " <details>\n",
    "  <summary>Lösung:</summary>\n",
    "  <pre>\n",
    "Der Operator `**` steht für Exponantation, also Potenz.\n",
    "  </pre>\n",
    "</details>"
   ]
  },
  {
   "cell_type": "markdown",
   "id": "f750b971-f58b-4870-8fb6-b636a2fdbcd9",
   "metadata": {},
   "source": [
    "##### Aufgabe 3\n",
    "Wie heisst der Operator `%` und was macht er?"
   ]
  },
  {
   "cell_type": "code",
   "execution_count": 5,
   "id": "bddb9605-f829-4cc5-a447-897437565cec",
   "metadata": {},
   "outputs": [
    {
     "data": {
      "text/plain": [
       "1"
      ]
     },
     "execution_count": 5,
     "metadata": {},
     "output_type": "execute_result"
    }
   ],
   "source": [
    "13%3"
   ]
  },
  {
   "cell_type": "markdown",
   "id": "26e80c21-8900-4100-aa77-4dba83bc0387",
   "metadata": {},
   "source": [
    " <details>\n",
    "  <summary>Lösung:</summary>\n",
    "  <pre>\n",
    "`%` heisst **Modulo** und gibt den Rest einer Division zurück.\n",
    "  </pre>\n",
    "</details>"
   ]
  },
  {
   "cell_type": "markdown",
   "id": "8185754d-5d6d-40d9-9413-f575b00ef324",
   "metadata": {},
   "source": [
    "##### Aufgabe 4\n",
    "In welcher Beziehung stehen `%` und `//`, resp. wie kommt man mit `x` , `y` und `b` zurück auf `a`?"
   ]
  },
  {
   "cell_type": "code",
   "execution_count": 1,
   "id": "3c3fd4b3-a44f-4b66-a1de-f8bb7d069dfc",
   "metadata": {},
   "outputs": [
    {
     "name": "stdout",
     "output_type": "stream",
     "text": [
      "4 1\n"
     ]
    }
   ],
   "source": [
    "a = 13\n",
    "b = 3\n",
    "x = a//b\n",
    "y = a%b\n",
    "print(x,y)"
   ]
  },
  {
   "cell_type": "markdown",
   "id": "846ee914-b06c-4bd3-a243-1bd4070e5949",
   "metadata": {},
   "source": []
  },
  {
   "cell_type": "markdown",
   "id": "4d4ce6e2-1061-4cf9-99b1-bf7d6d69b277",
   "metadata": {},
   "source": [
    " <details>\n",
    "  <summary>Lösung:</summary>\n",
    "  <pre>\n",
    "x*b+y\n",
    "  </pre>\n",
    "</details>"
   ]
  },
  {
   "cell_type": "code",
   "execution_count": null,
   "id": "1b01e32f-3292-436f-a447-25a78eca378b",
   "metadata": {},
   "outputs": [],
   "source": []
  }
 ],
 "metadata": {
  "kernelspec": {
   "display_name": "Python 3 (ipykernel)",
   "language": "python",
   "name": "python3"
  },
  "language_info": {
   "codemirror_mode": {
    "name": "ipython",
    "version": 3
   },
   "file_extension": ".py",
   "mimetype": "text/x-python",
   "name": "python",
   "nbconvert_exporter": "python",
   "pygments_lexer": "ipython3",
   "version": "3.9.7"
  }
 },
 "nbformat": 4,
 "nbformat_minor": 5
}
