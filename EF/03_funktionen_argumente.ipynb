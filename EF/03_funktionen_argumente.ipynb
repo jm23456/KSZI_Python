{
 "cells": [
  {
   "cell_type": "markdown",
   "id": "b302a3a7-5f89-461a-bf32-a316035adb6e",
   "metadata": {},
   "source": [
    "# Funktionen\n",
    "\n",
    "Durch das Definieren von Funktionen und dem mehrmahligen Aufrufen dieser, vermeidet man, dass Code doppelt geschrieben werden muss.\n",
    "\n",
    "## Syntax\n",
    "**Zeile 1** \n",
    "\n",
    "Eine Funktion beginnt mit dem **Schlüsselwort `def`** (für definition).\n",
    "    Anschliessend folgt der **Name** der Funktion. Dieser kann wie bei den Variablennamen (mehr oder weniger) frei gewählt werden.\n",
    "    Dann kommen in einer runden Klammer die **Argumente**. Die braucht es aber nicht zwingend.\n",
    "    Die Definition wird am Ende mit einem **Doppelpunkt** abgeschlossen."
   ]
  },
  {
   "cell_type": "markdown",
   "id": "d04ebd88-2d27-492b-8210-d5636909c407",
   "metadata": {},
   "source": [
    "```python\n",
    "def name(args, kwargs):\n",
    "   do1\n",
    "   do2\n",
    "   ...\n",
    "   return x\n"
   ]
  },
  {
   "cell_type": "markdown",
   "id": "273bc4ee-37f0-4d91-93da-ec6c992c0c52",
   "metadata": {},
   "source": [
    "**Zeile 2-4** ist der **Inhalt der Funktion**.\n",
    "\n",
    "**Letzte Zeile:** Die Funktion wird mit dem return-Statement abgeschlossen und kann so einen Wert zurückgeben."
   ]
  },
  {
   "cell_type": "markdown",
   "id": "a609dd43-e842-4d05-8352-2b4ac2cf67fb",
   "metadata": {},
   "source": [
    "## Aufrufen einer Funktion"
   ]
  },
  {
   "cell_type": "markdown",
   "id": "bcf44ae8-fd84-45bf-a4d3-c562f881dd67",
   "metadata": {},
   "source": [
    "Eine Funktion rufen wir mit dessen Namen und einer runden Klammer auf. In die runde Klammer kommen die Argumente. Wenn es keine Argumente braucht, steht dort eine leere runde Klammer."
   ]
  },
  {
   "cell_type": "markdown",
   "id": "1491f7ac-18d1-47c8-8750-52d4c23bc538",
   "metadata": {},
   "source": [
    "Zum Beispiel:\n",
    "```python\n",
    "    z = name(args, kwargs)"
   ]
  },
  {
   "cell_type": "markdown",
   "id": "04a1283e-f4e3-4472-a3d6-9eb138d1f901",
   "metadata": {},
   "source": [
    "Der Aufruf einer Funktion wird wie ein Ausdruck ausgewertet. Das Ergebnis (der Rückgabewert) kann wie bei einem Ausdruck einer Variable zugewiesen oder direkt in einem Ausdruck weiterverwendet werden."
   ]
  },
  {
   "cell_type": "markdown",
   "id": "fc848e28-7300-4b5e-b6a1-4796d913e626",
   "metadata": {},
   "source": [
    "### Aufgabe: Pythagoras\n",
    "Von Pythagoras kennen wir die Formel $a^2 + b^2 = c^2$\n",
    "\n",
    "Dabei stehen `a` und `b` für die Längen der Katheten und `c` für die Länge der Hypothenuse eines rechtwinkligen Dreiecks.\n",
    "\n",
    "Wir können also bei 2 gegebenen Seitenlängen die Länge der dritten Seite berechnen."
   ]
  },
  {
   "cell_type": "markdown",
   "id": "914c9b5f-b05a-47bf-b2e7-27a8a6b26e7e",
   "metadata": {},
   "source": [
    "Wir definieren eine einfache Funktion, die bei bekannten Katheten die Hypothenuse berechnet:"
   ]
  },
  {
   "cell_type": "code",
   "execution_count": 1,
   "id": "c16a47c1-c9c5-4809-aaf5-1ff816d9566b",
   "metadata": {},
   "outputs": [],
   "source": [
    "import math"
   ]
  },
  {
   "cell_type": "code",
   "execution_count": 2,
   "id": "f06fb9f6-4140-47c6-9747-4ce216ab5cde",
   "metadata": {},
   "outputs": [],
   "source": [
    "def hypotenuse(a, b):\n",
    "    c = math.sqrt(a**2 + b**2)\n",
    "    return c"
   ]
  },
  {
   "cell_type": "code",
   "execution_count": 3,
   "id": "80a4343e-d34c-492a-b763-45880d7470dc",
   "metadata": {},
   "outputs": [
    {
     "data": {
      "text/plain": [
       "5.0"
      ]
     },
     "execution_count": 3,
     "metadata": {},
     "output_type": "execute_result"
    }
   ],
   "source": [
    "hypotenuse(3,4)"
   ]
  },
  {
   "cell_type": "markdown",
   "id": "d720f609-8a74-4174-8609-c3ca2777a530",
   "metadata": {},
   "source": [
    "Wieso wählt man bei der pythagoras-Funktion als Default-Wert `0`?"
   ]
  },
  {
   "cell_type": "code",
   "execution_count": 4,
   "id": "cd4cdfad-6b39-4452-a70a-59ee29cd50e2",
   "metadata": {},
   "outputs": [],
   "source": [
    "def pythagoras(a=0, b=0, c=0):\n",
    "    if c==0:\n",
    "        return math.sqrt(a**2 + b**2)"
   ]
  },
  {
   "cell_type": "code",
   "execution_count": 5,
   "id": "aca5c557-2650-4910-96d7-a866402a65e1",
   "metadata": {},
   "outputs": [
    {
     "data": {
      "text/plain": [
       "5.0"
      ]
     },
     "execution_count": 5,
     "metadata": {},
     "output_type": "execute_result"
    }
   ],
   "source": [
    "pythagoras(a=3,b=4)"
   ]
  },
  {
   "cell_type": "markdown",
   "id": "d80e6bf9-2cb7-4d78-8262-307f4a23dafd",
   "metadata": {},
   "source": []
  },
  {
   "cell_type": "markdown",
   "id": "432ef703-3975-409b-acea-ca8736aec228",
   "metadata": {},
   "source": [
    " <details>\n",
    "  <summary>Lösung:</summary>\n",
    "  <pre>\n",
    "Man setzt die Default-Werte, damit die Funktion auch aufrufbar ist, wenn man nicht alle Argumente übergibt.\n",
    "  </pre>\n",
    "</details>"
   ]
  },
  {
   "cell_type": "markdown",
   "id": "ac1838d2-d7d1-464a-ac90-755c9a061e29",
   "metadata": {},
   "source": [
    "Erweitere die Funkion `pythagoras`, so dass aus Hypothenuse `c` und einer Kathete (`a` oder `b`) die andere Kathete berechnet werden kann."
   ]
  },
  {
   "cell_type": "code",
   "execution_count": 10,
   "id": "a0414ab1-62f4-49e8-b921-c97642afa212",
   "metadata": {},
   "outputs": [],
   "source": [
    "def pythagoras(a=0, b=0, c=0):\n",
    "    if c==0:\n",
    "        return math.sqrt(a**2 + b**2)\n",
    "    elif b==0:\n",
    "        return math.sqrt(c**2 - a**2)\n",
    "    elif a==0:\n",
    "        return math.sqrt(c**2 - b**2)"
   ]
  },
  {
   "cell_type": "code",
   "execution_count": 11,
   "id": "45689eb3-0453-4658-bbff-5ca3a25f8e49",
   "metadata": {},
   "outputs": [
    {
     "data": {
      "text/plain": [
       "3.0"
      ]
     },
     "execution_count": 11,
     "metadata": {},
     "output_type": "execute_result"
    }
   ],
   "source": [
    "pythagoras(c=5,b=4)"
   ]
  },
  {
   "cell_type": "code",
   "execution_count": 12,
   "id": "5d455566-3e8e-4eeb-9edf-69c922959d57",
   "metadata": {},
   "outputs": [
    {
     "data": {
      "text/plain": [
       "4.0"
      ]
     },
     "execution_count": 12,
     "metadata": {},
     "output_type": "execute_result"
    }
   ],
   "source": [
    "pythagoras(a=3,c=5)"
   ]
  },
  {
   "cell_type": "markdown",
   "id": "652c5327-93db-400e-a88a-e580d798a2f4",
   "metadata": {},
   "source": [
    " <details>\n",
    "  <summary>Lösung:</summary>\n",
    "  <pre><code>\n",
    "def pythagoras(a=0, b=0, c=0):\n",
    "    if c==0:\n",
    "        return math.sqrt(a**2 + b**2)\n",
    "    elif b==0:\n",
    "        return math.sqrt(c**2 - a**2)\n",
    "    elif a==0:\n",
    "        return math.sqrt(c**2 - b**2)\n",
    "  </code></pre>\n",
    "</details> "
   ]
  },
  {
   "cell_type": "markdown",
   "id": "1c90e7d8-dfc7-4256-9a58-f4ff5238a303",
   "metadata": {},
   "source": [
    "Was geschieht bei den folgenden Aufrufen? Wie könnten wir die Funktion im Hinblick auf diese Fälle besser programmieren?"
   ]
  },
  {
   "cell_type": "code",
   "execution_count": 13,
   "id": "56851467-232e-4249-9341-ceed60741c80",
   "metadata": {},
   "outputs": [],
   "source": [
    "pythagoras(a=3,b=4,c=5)"
   ]
  },
  {
   "cell_type": "code",
   "execution_count": 14,
   "id": "1b411091-601d-4540-a82d-de6376b6cda7",
   "metadata": {},
   "outputs": [
    {
     "data": {
      "text/plain": [
       "3.0"
      ]
     },
     "execution_count": 14,
     "metadata": {},
     "output_type": "execute_result"
    }
   ],
   "source": [
    "pythagoras(a=3)"
   ]
  },
  {
   "cell_type": "code",
   "execution_count": 20,
   "id": "eb57f035-9330-41ff-b201-8da84a408291",
   "metadata": {},
   "outputs": [
    {
     "data": {
      "text/plain": [
       "0.0"
      ]
     },
     "execution_count": 20,
     "metadata": {},
     "output_type": "execute_result"
    }
   ],
   "source": [
    "pythagoras()"
   ]
  },
  {
   "cell_type": "code",
   "execution_count": 19,
   "id": "8c20ebb5-847d-443f-af2a-28a694a106e1",
   "metadata": {},
   "outputs": [],
   "source": []
  },
  {
   "cell_type": "markdown",
   "id": "6a6564ad-d1c0-4640-8020-2d471c761340",
   "metadata": {},
   "source": [
    " <details>\n",
    "  <summary>Lösung:</summary>\n",
    "  <pre>\n",
    "def pythagoras(a=0, b=0, c=0):\n",
    "    if c==0:\n",
    "        return math.sqrt(a**2 + b**2)\n",
    "    elif b==0:\n",
    "        return math.sqrt(c**2 - a**2)\n",
    "    elif a==0:\n",
    "        return math.sqrt(c**2 - b**2)\n",
    "    elif a!= 0 and b!= 0 and c!= 0:\n",
    "        return math.sqrt(a**2 + b**2)\n",
    "    else:\n",
    "        return None\n",
    "  </pre>\n",
    "</details>"
   ]
  },
  {
   "cell_type": "markdown",
   "id": "beba9122-23c4-4eb3-a591-87e53f26546e",
   "metadata": {},
   "source": [
    "# Rückgabewert\n",
    "\n",
    "Die Funktion kann mit dem Schlüsselwort `return` einen sogenannten Rückgabewert liefern. `return` stellt das Ende der Funktion dar und kann einen beliebigen Datentyp sein."
   ]
  },
  {
   "cell_type": "markdown",
   "id": "16bc0946-0fd8-4a92-bff2-33392e5507e8",
   "metadata": {},
   "source": [
    "##### Aufgabe: Quadratische Gleichung\n",
    "Bekanntlicherweise lassen sich quadratische Gleichungen der Form\n",
    "\n",
    "$ax^2 + bx + c = 0$ "
   ]
  },
  {
   "attachments": {
    "ef542422-4e56-4d47-b955-725634ff0444.png": {
     "image/png": "[encoded data removed]"
    }
   },
   "cell_type": "markdown",
   "id": "d55de3b8-cb91-4361-9368-bca03abadb3a",
   "metadata": {},
   "source": [
    "mit der folgenden Lösungsformel lösen:\n",
    "\n",
    "![image.png](attachment:ef542422-4e56-4d47-b955-725634ff0444.png)    \n",
    "\n",
    "Das Spezielle: es kann keine, eine oder zwei Lösungen geben!"
   ]
  },
  {
   "cell_type": "markdown",
   "id": "fadd6d7d-af66-410b-a859-59776124e84c",
   "metadata": {},
   "source": [
    "#### Aufgabe"
   ]
  },
  {
   "cell_type": "markdown",
   "id": "bafd9396-da47-47de-8145-f7ebb07aeb4b",
   "metadata": {},
   "source": [
    "Die untenstehende Funktion zeigt die Lösungen einer Quadratischen Gleichung gegeben durch ihre Koeffizienten `a`, `b` und `c` an:"
   ]
  },
  {
   "cell_type": "code",
   "execution_count": 45,
   "id": "4b10bc13-0915-44f3-9b29-df2b544c6747",
   "metadata": {},
   "outputs": [],
   "source": [
    "import math\n",
    "\n",
    "def quadr(a,b,c):\n",
    "    D = b**2 - 4*a*c\n",
    "    if D < 0:\n",
    "        print(\"keine Lösung\")\n",
    "    elif D == 0:\n",
    "        x = (-b + math.sqrt(D))/2*a\n",
    "        print(x)\n",
    "    else:\n",
    "        x1 = (-b + math.sqrt(D))/2*a\n",
    "        x2 = (-b - math.sqrt(D))/2*a\n",
    "        print(x1, x2)"
   ]
  },
  {
   "cell_type": "markdown",
   "id": "0a110caa-b412-4006-8702-1fba4cdb1121",
   "metadata": {},
   "source": [
    "Die Gleichung $x^2 - 1 = 0$ sollte zwei Lösungen haben: -1 und 1"
   ]
  },
  {
   "cell_type": "code",
   "execution_count": 30,
   "id": "634ad267-82c0-43e6-9d44-7294ea2b9a96",
   "metadata": {},
   "outputs": [
    {
     "data": {
      "text/plain": [
       "(1.0, -1.0)"
      ]
     },
     "execution_count": 30,
     "metadata": {},
     "output_type": "execute_result"
    }
   ],
   "source": [
    "quadr(1,0,-1)"
   ]
  },
  {
   "cell_type": "markdown",
   "id": "369abed8-b158-4152-9197-cb42faf44ef3",
   "metadata": {},
   "source": [
    "Die Gleichung $x^2 -2x + 1 = 0$ hat genau eine Lösung: 1"
   ]
  },
  {
   "cell_type": "code",
   "execution_count": 31,
   "id": "23020016-628f-404c-91af-22cdb95dba88",
   "metadata": {},
   "outputs": [
    {
     "data": {
      "text/plain": [
       "1.0"
      ]
     },
     "execution_count": 31,
     "metadata": {},
     "output_type": "execute_result"
    }
   ],
   "source": [
    "quadr(1,-2,1)"
   ]
  },
  {
   "cell_type": "markdown",
   "id": "77aa7fd3-322a-4ed8-b472-03708c564852",
   "metadata": {},
   "source": [
    "Die Gleichung $x^2 + 1 = 0$ hat keine Lösung"
   ]
  },
  {
   "cell_type": "code",
   "execution_count": 32,
   "id": "949c184d-efad-415c-997d-5a112e735961",
   "metadata": {},
   "outputs": [],
   "source": [
    "quadr(1,0,1)"
   ]
  },
  {
   "cell_type": "markdown",
   "id": "81be087d-e013-43cb-9794-c994dce3a463",
   "metadata": {},
   "source": [
    "**Verbessere nun die Funktion: Statt mit `print` zu arbeiten, soll die Funktion Werte zurückliefern die weiterverwendet werden können!**"
   ]
  },
  {
   "cell_type": "markdown",
   "id": "60ac10af-ddf1-4d99-abcf-d8fa5c96fff3",
   "metadata": {},
   "source": [
    " <details>\n",
    "  <summary>Lösung:</summary>\n",
    "  <pre>\n",
    "import math\n",
    "\n",
    "def quadr(a,b,c):\n",
    "    D = b**2 - 4*a*c\n",
    "    if D < 0:\n",
    "        return None\n",
    "    elif D == 0:\n",
    "        x = (-b + math.sqrt(D))/2*a\n",
    "        return x\n",
    "    else:\n",
    "        x1 = (-b + math.sqrt(D))/2*a\n",
    "        x2 = (-b - math.sqrt(D))/2*a\n",
    "        return x1, x2\n",
    "  </pre>\n",
    "</details>"
   ]
  },
  {
   "cell_type": "code",
   "execution_count": null,
   "id": "cef1dd7b-a5bf-482d-8b62-c813b8aba274",
   "metadata": {},
   "outputs": [],
   "source": []
  }
 ],
 "metadata": {
  "kernelspec": {
   "display_name": "Python 3 (ipykernel)",
   "language": "python",
   "name": "python3"
  },
  "language_info": {
   "codemirror_mode": {
    "name": "ipython",
    "version": 3
   },
   "file_extension": ".py",
   "mimetype": "text/x-python",
   "name": "python",
   "nbconvert_exporter": "python",
   "pygments_lexer": "ipython3",
   "version": "3.9.7"
  }
 },
 "nbformat": 4,
 "nbformat_minor": 5
}
