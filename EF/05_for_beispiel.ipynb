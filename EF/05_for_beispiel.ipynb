{
 "cells": [
  {
   "cell_type": "markdown",
   "id": "833fa700-876b-4741-a1be-071579f840e0",
   "metadata": {},
   "source": [
    "# For-In-Schleife\n",
    "mit einer for-in-Schleife werden Elemente aus einer Liste genommen. Für jedes Element wird der Schleifeninhalt ausgeführt. Das aktuelle Element ist im Schleifeninhalt mit dem im Schleifenkopf gesetzten Namen ansprechbar\n",
    "\n",
    "## Syntax\n",
    "```python\n",
    "    for element in liste:\n",
    "\t#mach etwas mit element\n",
    "```\n",
    "- `liste:` Name der Variable woraus die Elemente genommen werden sollen\n",
    "- `element:` Name welche die Elemente im Schleifeninhalt temporär erhalten \n"
   ]
  },
  {
   "cell_type": "markdown",
   "id": "602bde51-96c0-49dd-959c-b2f632d795da",
   "metadata": {},
   "source": [
    "## Beispiel"
   ]
  },
  {
   "cell_type": "markdown",
   "id": "3e8f761b-a04f-4713-9dfa-71088b9950a4",
   "metadata": {},
   "source": [
    "**Summe und Durchschnitt**"
   ]
  },
  {
   "cell_type": "code",
   "execution_count": 1,
   "id": "9f7cbd24-972e-4e46-8385-684c5e26916a",
   "metadata": {},
   "outputs": [
    {
     "name": "stdout",
     "output_type": "stream",
     "text": [
      "Gesamte Ausgaben: 29.15\n",
      " im Durchschnitt: 7.2875\n"
     ]
    }
   ],
   "source": [
    "ausgaben = [12.50, 4.25, 9.90, 2.50]\n",
    "\n",
    "summe = 0\n",
    "for ausgabe in ausgaben:\n",
    "\tsumme = summe + ausgabe\n",
    "\n",
    "durchschnitt = summe/len(ausgaben)\n",
    "\n",
    "print(\"Gesamte Ausgaben:\", summe)\n",
    "print(\" im Durchschnitt:\", durchschnitt)"
   ]
  },
  {
   "cell_type": "markdown",
   "id": "cd8499d0-5132-465f-9512-9860b20da27b",
   "metadata": {},
   "source": [
    "**Listen erzeugen**"
   ]
  },
  {
   "cell_type": "code",
   "execution_count": 2,
   "id": "6e663ab5-1f45-4f1f-a9ec-67ecb8cecb22",
   "metadata": {},
   "outputs": [
    {
     "data": {
      "text/plain": [
       "[0, 2, 4, 6, 8, 10, 12, 14, 16, 18]"
      ]
     },
     "execution_count": 2,
     "metadata": {},
     "output_type": "execute_result"
    }
   ],
   "source": [
    "[x * 2 for x in range(10)]"
   ]
  },
  {
   "cell_type": "code",
   "execution_count": 3,
   "id": "f462f0c5-7861-4b33-b835-0593c8817dd4",
   "metadata": {},
   "outputs": [
    {
     "data": {
      "text/plain": [
       "[0, 0, 0, 0, 0, 0, 0, 0, 0, 0, 0, 0, 0, 0, 0, 0, 0, 0, 0, 0]"
      ]
     },
     "execution_count": 3,
     "metadata": {},
     "output_type": "execute_result"
    }
   ],
   "source": [
    "[0 for x in range(20)]"
   ]
  },
  {
   "cell_type": "code",
   "execution_count": 4,
   "id": "6a7cb1a0-ff77-4bde-a1d3-2210c225ce2c",
   "metadata": {},
   "outputs": [
    {
     "data": {
      "text/plain": [
       "[[0, -1, -2, -3, -4, -5],\n",
       " [1, 0, -1, -2, -3, -4],\n",
       " [2, 1, 0, -1, -2, -3],\n",
       " [3, 2, 1, 0, -1, -2],\n",
       " [4, 3, 2, 1, 0, -1],\n",
       " [5, 4, 3, 2, 1, 0]]"
      ]
     },
     "execution_count": 4,
     "metadata": {},
     "output_type": "execute_result"
    }
   ],
   "source": [
    "[[x-y for y in range(6)] for x in range(6)]"
   ]
  },
  {
   "cell_type": "code",
   "execution_count": null,
   "id": "4e346288-4592-48db-bb7f-3f83fa5c4c5a",
   "metadata": {},
   "outputs": [],
   "source": []
  },
  {
   "cell_type": "markdown",
   "id": "a53f1ff3-f1ea-44d8-816c-deb63a9a1838",
   "metadata": {},
   "source": [
    "Text-Diagramm\n",
    "\n",
    "Erstelle ein Textdiagramm, indem du die Zahlen in einer Liste mit dem Print-Befehl und einer Zeichenkette basierend auf der grösse der Zahl.\n",
    "\n",
    "Wenn man also die Liste als Diagramm ausgibt, sollte in etwa das untenstehende erscheinen:\n",
    "\n",
    "    #######\n",
    "    ##\n",
    "    #####"
   ]
  },
  {
   "cell_type": "code",
   "execution_count": null,
   "id": "8d1a84eb-1255-48bd-b4ad-ff028322f6ea",
   "metadata": {},
   "outputs": [],
   "source": [
    "def diagramm(daten):\n",
    "\tprint(\"####\")  # muss natürlich angepasst werden\n",
    "\t\n",
    "diagramm([7,2,5])"
   ]
  },
  {
   "cell_type": "code",
   "execution_count": null,
   "id": "4b54c2ac-6e7c-44b0-afea-d48fed4535d0",
   "metadata": {},
   "outputs": [],
   "source": []
  },
  {
   "cell_type": "markdown",
   "id": "f99b79bf-0258-4eed-84de-7a8a079f49ba",
   "metadata": {},
   "source": [
    "**Minimum/Maximum**\n",
    "\n",
    "Gehe in einer for-Schleife die Zahlen einer Liste durch und bestimme die kleinste und die grösste dieser Zahlen."
   ]
  },
  {
   "cell_type": "code",
   "execution_count": null,
   "id": "e3d63286-9e1d-4f5e-a741-a594808ed198",
   "metadata": {},
   "outputs": [],
   "source": [
    "zahlen = [2,6,12,34,2.4,-1.4,13,12,-4,9]\n",
    "for x in zahlen:\n",
    "    pass\n",
    "\n",
    "print(\"grösste Zahl: ...\")\n",
    "print(\"kleinste Zahl: ...\")"
   ]
  },
  {
   "cell_type": "code",
   "execution_count": null,
   "id": "2662d98c-dcf9-4ebb-88d5-c1008ef0b13e",
   "metadata": {},
   "outputs": [],
   "source": []
  },
  {
   "cell_type": "markdown",
   "id": "12fa7c6e-8f2a-49d4-916b-d9fc2bc892fc",
   "metadata": {},
   "source": [
    " <details>\n",
    "  <summary>Lösung:</summary>\n",
    "  <pre>\n",
    "zahlen = [2,6,12,34,2.4,-1.4,13,12,-4,9]\n",
    "min = zahlen[0]\n",
    "max = zahlen[0]\n",
    "for x in zahlen:\n",
    "    if x < min:\n",
    "        min = x\n",
    "    elif x > max:\n",
    "        max = x\n",
    "\n",
    "print(\"grösste Zahl: \", max)\n",
    "print(\"kleinste Zahl: \", min)\n",
    "  </pre>\n",
    "</details>"
   ]
  },
  {
   "cell_type": "code",
   "execution_count": null,
   "id": "18668a1f-8f4c-42aa-a6b7-36e30ca74707",
   "metadata": {},
   "outputs": [],
   "source": []
  }
 ],
 "metadata": {
  "kernelspec": {
   "display_name": "Python 3 (ipykernel)",
   "language": "python",
   "name": "python3"
  },
  "language_info": {
   "codemirror_mode": {
    "name": "ipython",
    "version": 3
   },
   "file_extension": ".py",
   "mimetype": "text/x-python",
   "name": "python",
   "nbconvert_exporter": "python",
   "pygments_lexer": "ipython3",
   "version": "3.9.7"
  }
 },
 "nbformat": 4,
 "nbformat_minor": 5
}
