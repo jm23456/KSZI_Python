{
 "cells": [
  {
   "cell_type": "markdown",
   "id": "1e8ed862",
   "metadata": {},
   "source": [
    "# Aufgaben"
   ]
  },
  {
   "cell_type": "markdown",
   "id": "e9c7472a",
   "metadata": {},
   "source": [
    "### Aufgabe 1:"
   ]
  },
  {
   "cell_type": "markdown",
   "id": "59c7abf0",
   "metadata": {},
   "source": [
    "Schreiben Sie ein Programm, welches anhand ihres Jahrgangs ihr Alter berechnet und ausgibt."
   ]
  },
  {
   "cell_type": "code",
   "execution_count": null,
   "id": "a6b53170",
   "metadata": {},
   "outputs": [],
   "source": []
  },
  {
   "cell_type": "markdown",
   "id": "77dc893f-eb91-42ea-85fd-7940ec092f04",
   "metadata": {},
   "source": [
    "<details>\n",
    "  <summary>Lösung:</summary>\n",
    "  <pre><code class=\"language-python\">\n",
    "jahrgang = 1980\n",
    "alter = 2025-jahrgang\n",
    "print(\"Alter:\",alter)\n",
    "  </code></pre>\n",
    "</details>"
   ]
  },
  {
   "cell_type": "markdown",
   "id": "d302bb04",
   "metadata": {},
   "source": [
    "### Aufgabe 2:\n"
   ]
  },
  {
   "cell_type": "markdown",
   "id": "f755a1bd",
   "metadata": {},
   "source": [
    "Schreiben Sie ein print-Befehl, welcher die Wortbausteine zusammensetzt, und das Wort \"Rheinschifffahrtspolizeiverordnung\" ausgibt.\n",
    "Verwenden Sie nur die jeweiligen Variablen und verknüpfen Sie sie mit einem + Zeichen."
   ]
  },
  {
   "cell_type": "code",
   "execution_count": null,
   "id": "6eace10b",
   "metadata": {},
   "outputs": [],
   "source": [
    "a = \"zeivero\"\n",
    "b = \"ahr\"\n",
    "c = \"fff\"\n",
    "d = \"R\"\n",
    "e = \"hei\"\n",
    "f = \"rdnung\"\n",
    "g = \"tspoli\"\n",
    "h = \"nschi\"\n",
    "print()"
   ]
  },
  {
   "cell_type": "markdown",
   "id": "44359dcc-7c81-474f-97eb-392a0663a6c6",
   "metadata": {},
   "source": [
    "<details>\n",
    "  <summary>Lösung:</summary>\n",
    "\n",
    "  <pre><code class=\"language-python\">\n",
    "print(d+e+h+c+b+g+a+f)\n",
    "  </code></pre>\n",
    "</details>"
   ]
  },
  {
   "cell_type": "markdown",
   "id": "b767adc9",
   "metadata": {},
   "source": [
    "### Aufgabe 3:\n"
   ]
  },
  {
   "cell_type": "markdown",
   "id": "08b86e04",
   "metadata": {},
   "source": [
    "Schreiben Sie ein Programm, welches ihnen den Notenschnitt aus zwei Noten berechnet.\n",
    "In den Variablen \"note_1\" und \"note_2\" werden jeweils Zahlen gespeichert, \n",
    "und in einer Variable \"schnitt\" soll der Durchscnitt gespeichert werden.\n",
    "Geben Sie diesen Durchschnitt zum Schluss aus.\n",
    "\n",
    "(Bsp: note_1 = 4.2 , note_2 = 3.8 --> schnitt = 4.0)"
   ]
  },
  {
   "cell_type": "code",
   "execution_count": null,
   "id": "6239a031",
   "metadata": {},
   "outputs": [],
   "source": []
  },
  {
   "cell_type": "markdown",
   "id": "6edd75e8-b37a-4746-a305-07ddba80f2b6",
   "metadata": {},
   "source": [
    "<details>\n",
    "  <summary>Lösung:</summary>\n",
    "\n",
    "  <pre><code class=\"language-python\">\n",
    "note_1 = 4.6\n",
    "note_2 = 5.1\n",
    "schnitt = (note_1 + note_2)/2\n",
    "print(schnitt)\n",
    "  </code></pre>\n",
    "</details>"
   ]
  },
  {
   "cell_type": "markdown",
   "id": "bf06f67c",
   "metadata": {},
   "source": [
    "### Aufgabe 4:"
   ]
  },
  {
   "cell_type": "markdown",
   "id": "ab0cf56d",
   "metadata": {},
   "source": [
    "Passen Sie das obige Programm an, um den Schnitt aus 4 Noten berechnen zu können."
   ]
  },
  {
   "cell_type": "code",
   "execution_count": null,
   "id": "a4c3a3ff-f2c6-475d-b9f4-4fd38d5d3df8",
   "metadata": {},
   "outputs": [],
   "source": []
  },
  {
   "cell_type": "markdown",
   "id": "55fae0a9-4286-4445-ace8-5e72775611cd",
   "metadata": {},
   "source": [
    "<details>\n",
    "  <summary>Lösung:</summary>\n",
    "\n",
    "  <pre><code class=\"language-python\">\n",
    "note_1 = 4.6\n",
    "note_2 = 5.1\n",
    "note_3 = 3.8\n",
    "note_4 = 5.2\n",
    "schnitt = (note_1 + note_2 + note_3 + note_4)/4\n",
    "print(schnitt)\n",
    "  </code></pre>\n",
    "</details>"
   ]
  },
  {
   "cell_type": "markdown",
   "id": "121529a8",
   "metadata": {},
   "source": [
    "### Aufgabe 5:"
   ]
  },
  {
   "cell_type": "markdown",
   "id": "083429b8",
   "metadata": {},
   "source": [
    "Gegeben sind die Variablen a,b,c. Berechnen sie folgendes mithilfe der drei Variablen:\n",
    "\n",
    "    1. d = Durchschnitt von a,b plus den Wert von c.\n",
    "    2. e = Die hälfte von c minus a\n",
    "    3. f = a plus das Doppelte von b\n",
    "    4. g = Das Produkt aus a,b und c\n"
   ]
  },
  {
   "cell_type": "code",
   "execution_count": null,
   "id": "10ee7845",
   "metadata": {},
   "outputs": [],
   "source": [
    "a = 20\n",
    "b = 5\n",
    "c = 130"
   ]
  },
  {
   "cell_type": "code",
   "execution_count": null,
   "id": "b7815d97-3709-4dc3-8dbc-642bf60c336e",
   "metadata": {},
   "outputs": [],
   "source": []
  },
  {
   "cell_type": "markdown",
   "id": "3e0af179-c9b5-4936-b534-412a8e12e431",
   "metadata": {},
   "source": [
    "<details>\n",
    "  <summary>Lösung:</summary>\n",
    "\n",
    "  <pre><code class=\"language-python\">\n",
    "a = 20\n",
    "b = 5\n",
    "c = 130\n",
    "\n",
    "d = (a+b)/2+c\n",
    "e = c/2 - a\n",
    "f = a + 2*b\n",
    "g = a * b * c\n",
    "\n",
    "print(d,e,f,g)\n",
    "  </code></pre>\n",
    "</details>"
   ]
  },
  {
   "cell_type": "markdown",
   "id": "a8859f1e",
   "metadata": {},
   "source": [
    "### Aufgabe 5:"
   ]
  },
  {
   "cell_type": "markdown",
   "id": "cec86745",
   "metadata": {},
   "source": [
    "Ändern Sie die Variabel x so ab, damit das Ergebnis 2025 ergibt:"
   ]
  },
  {
   "cell_type": "code",
   "execution_count": 2,
   "id": "13562437",
   "metadata": {},
   "outputs": [
    {
     "name": "stdout",
     "output_type": "stream",
     "text": [
      "1999\n"
     ]
    }
   ],
   "source": [
    "x = 0\n",
    "result = (1999 + x)%2026\n",
    "print(result)"
   ]
  },
  {
   "cell_type": "markdown",
   "id": "8b496fcb-caa5-454a-8f4f-afa10f69c7df",
   "metadata": {},
   "source": [
    "<details>\n",
    "  <summary>Lösung:</summary>\n",
    "\n",
    "  <pre><code class=\"language-python\">\n",
    "x = 26\n",
    "  </code></pre>\n",
    "</details>"
   ]
  },
  {
   "cell_type": "markdown",
   "id": "11eac74a",
   "metadata": {},
   "source": [
    "### Aufgabe 6:"
   ]
  },
  {
   "cell_type": "markdown",
   "id": "294387cb",
   "metadata": {},
   "source": [
    "In dieser Aufgabe lernen Sie den f-String kennen.\n",
    "Der Nutzen von f-Strings liegt in ihrer Einfachheit und Lesbarkeit. Sie ermöglichen es, Variablen und Ausdrücke direkt in Zeichenketten einzufügen, ohne komplizierte Konkatenation von Zeichenketten oder die Verwendung von %-Formatierungsoperatoren. Dies macht den Code übersichtlicher und leichter verständlich.\n",
    "\n",
    "F-Strings sind auch sehr flexibel und unterstützen das Einbetten von Ausdrücken, Variablen und sogar die Verwendung von Formatierungsoptionen, um Zahlen oder Datumsangaben in einem bestimmten Format anzuzeigen.\n",
    "\n",
    "Der folgende Code enthält noch einige Fehler. Korrigieren Sie diese, und verändern Sie das Programm so, dass auch die Temperatur in Kelvin angezeigt wird.\n",
    "\n",
    "Wir können Celsius in Fahrenheit umrechnen, indem wir folgende Formel verwenden: \n",
    "\n",
    "Grad Fahrenheit = Grad Celsius mal 1,8 plus 32. Beispiel 37 °C: 37 mal 1,8 ergibt 66,6."
   ]
  },
  {
   "cell_type": "code",
   "execution_count": null,
   "id": "50088a36",
   "metadata": {},
   "outputs": [],
   "source": [
    "temp_c = float(input(\"Grad: \"))\n",
    "temp_f = temp_c * (1.8 + 32)\n",
    "print(f\"Es ist {temp_f} Grad Celsius oder {temp_c} Grad Fahrenheit.\")"
   ]
  },
  {
   "cell_type": "code",
   "execution_count": null,
   "id": "ef3902be",
   "metadata": {},
   "outputs": [],
   "source": []
  },
  {
   "cell_type": "markdown",
   "id": "3262b72b-2ec3-47d7-9a17-9a263751b5c5",
   "metadata": {},
   "source": [
    "<details>\n",
    "  <summary>Lösung:</summary>\n",
    "\n",
    "  <pre><code class=\"language-python\">\n",
    "temp_c = float(input(\"Grad: \"))\n",
    "temp_f = temp_c * 1.8 + 32\n",
    "print(f\"Es ist {temp_c} Grad Celsius oder {temp_f} Grad Fahrenheit.\")\n",
    "</code></pre>\n",
    "</details>"
   ]
  },
  {
   "cell_type": "markdown",
   "id": "286dd834-1d14-47c1-b0d9-b7fee6905a90",
   "metadata": {},
   "source": [
    "### Aufgabe 7:"
   ]
  },
  {
   "cell_type": "markdown",
   "id": "b0f0f0ee-37e6-484f-be8b-bf67de9878b5",
   "metadata": {},
   "source": [
    "Schreiben Sie ein eigenes Programm, um den Unterschied folgender Befehle rauszufinden:\n",
    "\n",
    "\n",
    "int(x),float(x)"
   ]
  },
  {
   "cell_type": "code",
   "execution_count": null,
   "id": "10e86028-8dd5-4bbe-9237-b0db0f1f10cc",
   "metadata": {},
   "outputs": [],
   "source": []
  },
  {
   "cell_type": "markdown",
   "id": "8f041990-300a-46c3-96e6-90a555f70eeb",
   "metadata": {},
   "source": [
    "<details>\n",
    "  <summary>Lösung:</summary>\n",
    "\n",
    "  <pre><code class=\"language-python\">\n",
    "int() wird verwendet, um Ganze Zahlen zu speichern.\n",
    "float() wird verwendet, um Kommazahlen zu speichern.\n",
    "</code></pre>\n",
    "</details>"
   ]
  },
  {
   "cell_type": "markdown",
   "id": "b9891da5-4b34-42ec-be1f-208781a83bee",
   "metadata": {},
   "source": [
    "# Zusammenfassung"
   ]
  },
  {
   "cell_type": "markdown",
   "id": "ae54035f-915a-4a36-9c21-48e005dfab0f",
   "metadata": {},
   "source": [
    "In diesem Kapitel wurden folgende zentrale Konzepte eingeführt oder geübt:\n",
    "\n",
    "- **Variable** – Ein benannter Speicherplatz für Daten.\n",
    "- **Datentyp** – Bestimmt die Art der gespeicherten Werte (z. B. Zahl, Text, Wahrheitswert).\n",
    "- **String (`str`)** – Zeichenkette in Anführungszeichen, z. B. `'Hallo'`.\n",
    "- **Integer (`int`)** – Ganzzahlen ohne Komma.\n",
    "- **Float (`float`)** – Kommazahlen, z. B. `3.14`.\n",
    "- **`print()`** – Gibt Werte oder Text auf der Konsole aus.\n",
    "- **`input()`** – Liest Benutzereingaben als String ein.\n",
    "- **Operatoren** – Mathematische (`+ - * / `) oder String-Operatoren."
   ]
  },
  {
   "cell_type": "code",
   "execution_count": null,
   "id": "b0e71a6a-8926-421b-a5f0-1cb71d5ed110",
   "metadata": {},
   "outputs": [],
   "source": []
  }
 ],
 "metadata": {
  "kernelspec": {
   "display_name": "Python 3 (ipykernel)",
   "language": "python",
   "name": "python3"
  },
  "language_info": {
   "codemirror_mode": {
    "name": "ipython",
    "version": 3
   },
   "file_extension": ".py",
   "mimetype": "text/x-python",
   "name": "python",
   "nbconvert_exporter": "python",
   "pygments_lexer": "ipython3",
   "version": "3.9.7"
  }
 },
 "nbformat": 4,
 "nbformat_minor": 5
}
