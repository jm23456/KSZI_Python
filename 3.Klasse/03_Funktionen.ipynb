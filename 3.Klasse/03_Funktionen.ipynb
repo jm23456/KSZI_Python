{
 "cells": [
  {
   "cell_type": "markdown",
   "id": "f39a3f6d",
   "metadata": {},
   "source": [
    "# Funktionen"
   ]
  },
  {
   "cell_type": "markdown",
   "id": "b20bc517",
   "metadata": {},
   "source": [
    "Wir haben bereits eine Funktion kennengelernt: ```print( )```, die eine Zeile ausgibt. Um eine Funktion zu nutzen, schreibt man immer ihren Namen, gefolgt von einigen Argumenten in Klammern ( ). Das Wort Argument meint hier die Eingabedaten für eine Funktion. Dann wird die Funktion etwas tun - abhängig von den Argumenten. Wenn eine Funktion mehrere Argumente annimmt, werden sie mit Kommas ( , ) getrennt. "
   ]
  },
  {
   "cell_type": "markdown",
   "id": "34502ffc",
   "metadata": {},
   "source": [
    "Zum Beispiel kann auch print( ) mehrere Argumente annehmen; sie werden in einer bestimmten Reihenfolge ausgegeben, getrennt durch ein Leerzeichen. Das demonstrieren wir hier einmal:"
   ]
  },
  {
   "cell_type": "code",
   "execution_count": null,
   "id": "ea09a534",
   "metadata": {},
   "outputs": [],
   "source": [
    "zahl = 120\n",
    "print(zahl,zahl+zahl,zahl*zahl)"
   ]
  },
  {
   "cell_type": "markdown",
   "id": "b1936495",
   "metadata": {},
   "source": [
    "Eine Funktion kann auch Werte liefern (wie eine Ausgabe). Zum Beispiel gibt die Funktion ```max( )``` (Abkürzung für Maximum) das größte aller ihrer Argumente zurück, die allesamt Zahlen sein müssen."
   ]
  },
  {
   "cell_type": "markdown",
   "id": "e9cfbf70",
   "metadata": {},
   "source": [
    "Man nennt diesen Wert auch Rückgabewert. Für den Befehl max(42, 17) sagt man \"Die Funktion max gibt den Wert 42 zurück.\"\n",
    "Der beste Freund der max( )-Funktion verhält sich ganz ähnlich: die min( )-Funktion gibt das Minimum der Argumente zurück."
   ]
  },
  {
   "cell_type": "markdown",
   "id": "ccf0c6bc-6bce-4228-b573-3587ce4f1f1c",
   "metadata": {},
   "source": [
    "# Datentypen"
   ]
  },
  {
   "cell_type": "markdown",
   "id": "4b1f5328-2ebb-4d18-ab89-73bf7b61259e",
   "metadata": {},
   "source": [
    "In Python gibt es verschiedene Datentypen, die angeben, welche Art von Daten eine Variable speichert. Die Wahl des richtigen Datentyps ist wichtig, da jede Datenart unterschiedliche Eigenschaften hat. Daher gibt auch oftmals eine Funktion, die mit unterschiedlichen Datentypen aufgerufen wird, eine Fehlermeldung zurück. Die häufigsten Datentypen in Python sind:"
   ]
  },
  {
   "cell_type": "markdown",
   "id": "10d8f530-0f62-4910-a739-f2073f212aaa",
   "metadata": {},
   "source": [
    "* ### Integer (auch Ganzzahlen genannt)\n",
    "Ein Integer ist eine Zahl ohne Dezimalstellen.\n",
    "Dies sind zum Beispiel: 5, -3, 2024. Die Abkürzung für den Datentyp Integer ist 'int'."
   ]
  },
  {
   "cell_type": "markdown",
   "id": "292f38d6-2499-4183-a049-7700bebfb8e2",
   "metadata": {},
   "source": [
    "integer = 10\n",
    "print(integer)"
   ]
  },
  {
   "cell_type": "code",
   "execution_count": null,
   "id": "797ff602-7f03-4fa9-b812-c6774c8341ae",
   "metadata": {},
   "outputs": [],
   "source": [
    "integer = 10\n",
    "print(integer)"
   ]
  },
  {
   "cell_type": "markdown",
   "id": "6f02188f-c45e-4836-b171-e4ffc176da90",
   "metadata": {},
   "source": [
    "* ### Float \n",
    "Ein Float sind Zahlen mit Dezimalstellen. Wie z.B. 3.14 oder -0.02."
   ]
  },
  {
   "cell_type": "code",
   "execution_count": null,
   "id": "6fcd7088-7fef-4798-8209-4113ecacc130",
   "metadata": {},
   "outputs": [],
   "source": [
    "float = 3.14159\n",
    "print(float)"
   ]
  },
  {
   "cell_type": "markdown",
   "id": "bb902c29-fc16-4771-9655-cffb654c974b",
   "metadata": {},
   "source": [
    "* ### String\n",
    "Strings sind Folgen von Zeichen, die in Anführungszeichen (\"\") geschrieben werden. Sie dienen zur Darstellung von Text. Die Abkürzung für den Datentyp String ist 'str'."
   ]
  },
  {
   "cell_type": "code",
   "execution_count": null,
   "id": "d6d3596e-bb61-484a-b211-caaaa42e5149",
   "metadata": {},
   "outputs": [],
   "source": [
    "string = \"Hallo, Welt!\"\n",
    "print(string)"
   ]
  },
  {
   "cell_type": "markdown",
   "id": "fda1d9d7-5bb1-4376-9827-435273e4aab7",
   "metadata": {},
   "source": [
    "* ### Boolean (auch Boolsche Werte genannt)\n",
    "Booleans haben nur zwei mögliche Werte: True oder False. Sie werden häufig in logischen Operationen verwendet. Die Abkürzung für den Datentyp Boolean ist 'bool'."
   ]
  },
  {
   "cell_type": "code",
   "execution_count": null,
   "id": "e9f1998e-4cc7-4872-9a01-cdd6dc7c7167",
   "metadata": {},
   "outputs": [],
   "source": [
    "ist_wahr = True\n",
    "print(ist_wahr)"
   ]
  },
  {
   "cell_type": "markdown",
   "id": "6a898fc9-5a3e-4fd2-b20e-e674fc06c249",
   "metadata": {},
   "source": [
    "Manchmal möchten wir wissen, welchen Datentyp eine Variable hat, bevor wir sie in einer Funktion verwenden. Dazu gibt es die Funktion type(), die uns den Datentyp eines Wertes zurückgibt."
   ]
  },
  {
   "cell_type": "code",
   "execution_count": null,
   "id": "ef791ce7-155f-449d-a0c8-0d34cd639ee1",
   "metadata": {},
   "outputs": [],
   "source": [
    "zahl = True\n",
    "print(type(zahl))\n",
    "\n",
    "text = \"KSZI\"\n",
    "print(type(text))"
   ]
  },
  {
   "cell_type": "markdown",
   "id": "de226e32-f3a7-4ebe-91ce-4bcc4ca52028",
   "metadata": {},
   "source": [
    "## Kombination von Datentypen geht nicht immer"
   ]
  },
  {
   "cell_type": "markdown",
   "id": "d4451fcc-983a-4cb6-8e1a-5ed57e35e6f8",
   "metadata": {},
   "source": [
    "Es ist wichtig zu beachten, dass verschiedene Datentypen nicht immer direkt miteinander kombiniert werden können. Möchte man beispielsweise eine Zahl un einen Text gemeinsam mit print() ausgeben, funktioniert dies nicht."
   ]
  },
  {
   "cell_type": "code",
   "execution_count": null,
   "id": "6cec13a4-2509-43af-8e53-f13efb40621f",
   "metadata": {},
   "outputs": [],
   "source": [
    "zahl = 10\n",
    "text = \"Guten Morgen\"\n",
    "print(zahl + text)"
   ]
  },
  {
   "cell_type": "markdown",
   "id": "13642ad5-9746-4d0d-aaf4-c0f11dfe9668",
   "metadata": {},
   "source": [
    "Damit dies funktioniert muss zuert die Zahl in einen String umgewandelt werden:"
   ]
  },
  {
   "cell_type": "code",
   "execution_count": null,
   "id": "7cae28d7-986e-4f32-9ef0-f427eb4027b4",
   "metadata": {},
   "outputs": [],
   "source": [
    "zahl = 10 \n",
    "text = \"Guten Morgen\"\n",
    "print(str(zahl) + text)"
   ]
  },
  {
   "cell_type": "markdown",
   "id": "c9c5b4cb-b057-4049-be12-30dda23202d5",
   "metadata": {},
   "source": [
    "Einen String kann man allerdings nicht immer in einen Integer umwandeln, da ein Integer nur Zahlen ohne Dezimalstellen enthalten kann. Strings können  auch Buchstaben, Leerzeichen oder Sonderzeichen enthalten, welche dann nicht in eine Zahl umgewandelt werden können."
   ]
  },
  {
   "cell_type": "markdown",
   "id": "e87c3b32-c3cf-42e0-a813-1fc151327f81",
   "metadata": {},
   "source": [
    "Jede Funktion in Python kann mit diesen vier Datentypen arbeiten. Es ist wichtig, die passenden Argumente zu übergeben, um die gewünschte Ausgabe oder Berechnung zu erzielen."
   ]
  },
  {
   "cell_type": "markdown",
   "id": "4976f57c",
   "metadata": {},
   "source": [
    "# Aufgaben"
   ]
  },
  {
   "cell_type": "markdown",
   "id": "15eba0b7",
   "metadata": {},
   "source": [
    "### Aufgabe 1:"
   ]
  },
  {
   "cell_type": "markdown",
   "id": "8de47b1b",
   "metadata": {},
   "source": [
    "Wieso gibt dieser Block nichts aus?"
   ]
  },
  {
   "cell_type": "code",
   "execution_count": null,
   "id": "77af861c",
   "metadata": {},
   "outputs": [],
   "source": [
    "x = max(2,3)"
   ]
  },
  {
   "cell_type": "markdown",
   "id": "e3f7e33a-8aaa-4b02-9d77-a3761992c57a",
   "metadata": {},
   "source": [
    "<details>\n",
    "  <summary>Lösung:</summary>\n",
    "  <pre>Weil keine print-Funktion aufgerufen wird, um das Ergebnis auszugeben.\n",
    "      </pre>\n",
    "</details>"
   ]
  },
  {
   "cell_type": "markdown",
   "id": "7736f0c0",
   "metadata": {},
   "source": [
    "### Aufgabe 2:"
   ]
  },
  {
   "cell_type": "markdown",
   "id": "8f76ab1a",
   "metadata": {},
   "source": [
    "Wieso geben folgende Blöcke Fehlermeldungen aus?"
   ]
  },
  {
   "cell_type": "code",
   "execution_count": null,
   "id": "4c721ec6",
   "metadata": {},
   "outputs": [],
   "source": [
    "max(\"zwei\",3)"
   ]
  },
  {
   "cell_type": "code",
   "execution_count": null,
   "id": "e1687fd4",
   "metadata": {},
   "outputs": [],
   "source": [
    "print(max(3,4)"
   ]
  },
  {
   "cell_type": "markdown",
   "id": "ee3427d2-b52f-49b0-b3e9-8d72829864a2",
   "metadata": {},
   "source": [
    "<details>\n",
    "  <summary>Lösung:</summary>\n",
    "  <pre>Es fehlt lediglich eine Klammer am Schluss.</pre>\n",
    "</details>"
   ]
  },
  {
   "cell_type": "markdown",
   "id": "2e19b223",
   "metadata": {},
   "source": [
    "### Aufgabe 3:"
   ]
  },
  {
   "cell_type": "markdown",
   "id": "618726b5",
   "metadata": {},
   "source": [
    "Schreiben Sie ein Programm, bei dem Sie Schulnoten eintragen können. Das Programm soll ihnen die maximale und die minimale Note ausgeben."
   ]
  },
  {
   "cell_type": "code",
   "execution_count": null,
   "id": "3ad074db",
   "metadata": {},
   "outputs": [],
   "source": []
  },
  {
   "cell_type": "markdown",
   "id": "a9022d10-8229-461a-882e-0e02aa259eda",
   "metadata": {},
   "source": [
    "<details>\n",
    "  <summary>Lösung:</summary>\n",
    "  <pre><code class=\"language-python\">\n",
    "note_1 = 4\n",
    "note_2 = 5\n",
    "note_3 = 1.5\n",
    "print(f\"Die Maximalnote ist {max(note_1,note_2,note_3)} und die Minimalnote ist {min(note_1,note_2,note_3)}.\")\n",
    "  </code></pre>\n",
    "</details>"
   ]
  },
  {
   "cell_type": "markdown",
   "id": "d1bf892c",
   "metadata": {},
   "source": [
    "### Aufgabe 4:"
   ]
  },
  {
   "cell_type": "markdown",
   "id": "2afdccd4",
   "metadata": {},
   "source": [
    "Korrigieren Sie den logischen Fehler in diesem Programm:\n",
    "\n",
    "es soll die Bevölkerung in einem Land für die nächsten drei Jahre berechnen - mit der Annahme, dass dort am Anfang (also 2012) 1000 Personen leben und jedes Jahr 10% dazukommen."
   ]
  },
  {
   "cell_type": "code",
   "execution_count": null,
   "id": "42cc00f6",
   "metadata": {},
   "outputs": [],
   "source": [
    "populationIn2012 = 1000\n",
    "populationIn2013 = populationIn2012 * 0.1\n",
    "populationIn2014 = populationIn2013 * 0.1\n",
    "populationIn2015 = populationIn2014 * 0.1\n",
    "\n",
    "print(f\"Die Population entwickelt sich folgendermassen: {populationIn2012} {populationIn2013} {populationIn2014} {populationIn2015}\")"
   ]
  },
  {
   "cell_type": "markdown",
   "id": "94e6b83a-9357-4e46-9e57-fdf19bfd9ed0",
   "metadata": {},
   "source": [
    "<details>\n",
    "  <summary>Lösung:</summary>\n",
    "  <pre><code class=\"language-python\">\n",
    "populationIn2012 = 1000\n",
    "populationIn2013 = populationIn2012 * 1.1\n",
    "populationIn2014 = populationIn2013 * 1.1\n",
    "populationIn2015 = populationIn2014 * 1.1\n",
    "\n",
    "print(f\"Die Population entwickelt sich folgendermassen: {populationIn2012} {populationIn2013} {populationIn2014} {populationIn2015}\")\n",
    "  </code></pre>\n",
    "</details>"
   ]
  },
  {
   "cell_type": "markdown",
   "id": "de1a4bd0",
   "metadata": {},
   "source": [
    "### Aufgabe 5:"
   ]
  },
  {
   "cell_type": "markdown",
   "id": "c664e0fb",
   "metadata": {},
   "source": [
    "Vereinfachen Sie folgenden Ausdruck:\n",
    "\n",
    "max(x - 3, min(x + 10, x + 5))\n",
    "\n"
   ]
  },
  {
   "cell_type": "code",
   "execution_count": null,
   "id": "2be4cd6f",
   "metadata": {},
   "outputs": [],
   "source": []
  },
  {
   "cell_type": "markdown",
   "id": "76b72c07-f5ff-4ab8-8c6f-f3b9658e1da5",
   "metadata": {},
   "source": [
    "<details>\n",
    "  <summary>Lösung:</summary>\n",
    "  <pre><code class=\"language-python\">\n",
    "x + 5\n",
    "  </code></pre>\n",
    "</details>"
   ]
  },
  {
   "cell_type": "markdown",
   "id": "9d46ca11",
   "metadata": {},
   "source": [
    "### Aufgabe 6:"
   ]
  },
  {
   "cell_type": "markdown",
   "id": "f44e2308",
   "metadata": {},
   "source": [
    "Wir nehmen an, dass zwei Variablen x und y definiert sind. Schreiben Sie ein Programm, das den Wert von min(x, y)\n",
    "ausgibt. Benutzen Sie dabei jedoch nicht die min-Funktion.\n",
    "Nutzen Sie stattdessen max auf clevere Weise, um min zu simulieren. "
   ]
  },
  {
   "cell_type": "code",
   "execution_count": null,
   "id": "cbcc33a3",
   "metadata": {},
   "outputs": [],
   "source": []
  },
  {
   "cell_type": "markdown",
   "id": "18083bac-0cbe-4105-bdb2-f1cba53993a1",
   "metadata": {},
   "source": [
    "<details>\n",
    "  <summary>Lösung:</summary>\n",
    "  <pre><code class=\"language-python\">\n",
    "x = 5\n",
    "y = 3\n",
    "minimum = -max(-x,-y)\n",
    "print(minimum)\n",
    "  </code></pre>\n",
    "</details>"
   ]
  },
  {
   "cell_type": "markdown",
   "id": "c65d94fe",
   "metadata": {},
   "source": [
    "### Aufgabe 7:"
   ]
  },
  {
   "cell_type": "markdown",
   "id": "402309fd",
   "metadata": {},
   "source": [
    "Eine Kreditkartenfirma berechnet den \"minimal auszahlbaren Betrag\" nach der folgenden Regel: \n",
    "\n",
    "Der Minimalbetrag ist entweder 10.- oder 2,1% des Kontobetrags, je nach dem, welches größer ist; aber wenn dies den Kontobetrag übersteigen würde, wird stattdessen dieser genommen. Schreiben Sie ein Programm, das den Minimalbetrag ausgibt und min und max benutzt. Nehmen Sie an, dass eine Variable balance definiert ist, die den Kontobetrag angibt.\n",
    "\n",
    "\n",
    "Beispiel 1: wenn dein balance 1000 ist, dann sollte das Programm 21 ausgeben.\n",
    "Beispiel 2: wenn dein balance 600 ist, dann sollte das Programm 12.6 ausgeben.\n",
    "Beispiel 3: wenn dein balance 25 ist, dann sollte das Programm 10 ausgeben.\n",
    "Beispiel 4: wenn dein balance 8 ist, dann sollte das Programm 8 ausgeben."
   ]
  },
  {
   "cell_type": "code",
   "execution_count": null,
   "id": "a73aabe8",
   "metadata": {},
   "outputs": [],
   "source": []
  },
  {
   "cell_type": "markdown",
   "id": "474199c9-46f7-4a9e-83c6-96c0f599e161",
   "metadata": {},
   "source": [
    "<details>\n",
    "  <summary>Lösung:</summary>\n",
    "  <pre><code class=\"language-python\">\n",
    "balance = 8\n",
    "minimalbetrag = max(balance*0.021,10)\n",
    "rückgabe = min(minimalbetrag,balance)\n",
    "print(rückgabe)\n",
    "  </code></pre>\n",
    "</details>"
   ]
  },
  {
   "cell_type": "code",
   "execution_count": null,
   "id": "d28b8e37-6f88-4f7e-8e56-2a8fe56b3046",
   "metadata": {},
   "outputs": [],
   "source": []
  }
 ],
 "metadata": {
  "kernelspec": {
   "display_name": "Python 3 (ipykernel)",
   "language": "python",
   "name": "python3"
  },
  "language_info": {
   "codemirror_mode": {
    "name": "ipython",
    "version": 3
   },
   "file_extension": ".py",
   "mimetype": "text/x-python",
   "name": "python",
   "nbconvert_exporter": "python",
   "pygments_lexer": "ipython3",
   "version": "3.12.6"
  }
 },
 "nbformat": 4,
 "nbformat_minor": 5
}
