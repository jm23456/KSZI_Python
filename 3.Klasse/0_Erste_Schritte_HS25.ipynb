{
 "cells": [
  {
   "cell_type": "markdown",
   "id": "455b9fe6",
   "metadata": {},
   "source": [
    "# Erste Schritte"
   ]
  },
  {
   "cell_type": "markdown",
   "id": "87027aa0",
   "metadata": {},
   "source": [
    "Ein Computerprogramm ist eine Folge von Befehlen, beschrieben in Wörtern, Zahlen und Symbolen. So, wie jeder gesprochene Satz in einer menschlichen Sprache wie Deutsch oder Englisch ausgedrückt wird, wird jedes Programm in einer Programmiersprache ausgedrückt. Einige bekannte Programmiersprachen sind Python, C++, JavaScript und PHP. Unsere Auswahl fiel auf Python, da es sowohl einfach genug für Einsteiger als auch leistungsfähig genug für moderne Anwendungen ist. Alle Programmiersprachen bauen auf den selben Prinzipien auf, also können Sie einfach weitere lernen, wenn Sie schon eine kennst."
   ]
  },
  {
   "cell_type": "markdown",
   "id": "d3b95ce2",
   "metadata": {},
   "source": [
    "Führen Sie eine erste Zeile Code aus indem Sie auf \"Run\" klicken."
   ]
  },
  {
   "cell_type": "code",
   "execution_count": 1,
   "id": "12ae81fd",
   "metadata": {},
   "outputs": [
    {
     "name": "stdout",
     "output_type": "stream",
     "text": [
      "Hallo Welt\n"
     ]
    }
   ],
   "source": [
    "print(\"Hallo Welt\")"
   ]
  },
  {
   "cell_type": "markdown",
   "id": "1a9f7b2e",
   "metadata": {},
   "source": [
    "Wenn Sie ein Programm ausführen, können Sie auch dessen Ausgabe sehen. Dieses Beispiel-Programm hat genau einen Befehl, print(\"Hallo, Welt!\"), und erzeugt eine einzeilige Ausgabe,\n",
    "\n",
    "Hallo, Welt!"
   ]
  },
  {
   "cell_type": "markdown",
   "id": "be90551e",
   "metadata": {},
   "source": [
    "Hier ist eine Analyse von dem, was dieses Programm macht:\n",
    "    print ist der Name eines Python-Befehls, der Text ausgibt.\n",
    "    Die Klammern () nach dem Print-Befehl enthalten das, was du ausgeben möchtest.\n",
    "    Die Anführungsstriche \" \" sind eine Art Behälter für den Text Hallo, Welt!.\n",
    "Ohne Anführungsstriche würde Python annehmen, dass Hallo als Befehl gemeint ist. Das würde einen Fehler produzieren, da es keinen solchen Befehl gibt."
   ]
  },
  {
   "cell_type": "markdown",
   "id": "92d8f24b",
   "metadata": {},
   "source": [
    "Schauen wir uns doch mal an, was genau passiert, wenn man die Anführungsstriche weglässt:"
   ]
  },
  {
   "cell_type": "code",
   "execution_count": null,
   "id": "c24e32a7",
   "metadata": {},
   "outputs": [],
   "source": [
    "print(Hallo, Welt)"
   ]
  },
  {
   "cell_type": "markdown",
   "id": "5e330110",
   "metadata": {},
   "source": [
    "Hier ist das Programm abgestürzt: Das heißt, wir haben dem Computer einen falschen Befehl gegeben, der zu einem Fehler und zum Programmende führte."
   ]
  },
  {
   "cell_type": "markdown",
   "id": "392729ae",
   "metadata": {},
   "source": [
    "## Aufgaben"
   ]
  },
  {
   "cell_type": "markdown",
   "id": "70906a78",
   "metadata": {},
   "source": [
    "### Aufgabe 1 "
   ]
  },
  {
   "cell_type": "markdown",
   "id": "f88d9329",
   "metadata": {},
   "source": [
    "Schreiben Sie ein Programm, das folgende Ausgabe erzeugt:\n",
    "    Bonjour, tout le monde!"
   ]
  },
  {
   "cell_type": "code",
   "execution_count": null,
   "id": "c5fd05e4-1984-4360-b75e-e9d94db13290",
   "metadata": {},
   "outputs": [],
   "source": []
  },
  {
   "cell_type": "markdown",
   "id": "b9eacd04-49ea-4ce5-bf8e-033074a41720",
   "metadata": {},
   "source": [
    "<details>\n",
    "  <summary>Lösung:</summary>\n",
    "  <pre><code class=\"language-python\">\n",
    "print(\"Bonjour, tout le monde\")\n",
    "  </code></pre>\n",
    "</details>\n"
   ]
  },
  {
   "cell_type": "markdown",
   "id": "87d998ef",
   "metadata": {},
   "source": [
    "### Aufgabe 2"
   ]
  },
  {
   "cell_type": "markdown",
   "id": "0d3fd4a1",
   "metadata": {},
   "source": [
    "Schreiben Sie ein Programm, welches zwei Wörter miteinander verbindet:\n",
    "    -> Wörter verbinden kann man indem man sie mit einem + Zeichen aneinanderhängt: \"Du\"+\"rchsage\"."
   ]
  },
  {
   "cell_type": "code",
   "execution_count": null,
   "id": "d171cb87",
   "metadata": {},
   "outputs": [],
   "source": []
  },
  {
   "cell_type": "markdown",
   "id": "ca420c54-d845-4219-a1db-83a6f039f440",
   "metadata": {},
   "source": [
    "<details>\n",
    "  <summary>Lösung:</summary>\n",
    "  <pre><code class=\"language-python\">\n",
    "print(\"Du\"+\"rchsage\")\n",
    "  </code></pre>\n",
    "</details>"
   ]
  },
  {
   "cell_type": "markdown",
   "id": "3ed270e0",
   "metadata": {},
   "source": [
    "### Aufgabe 3"
   ]
  },
  {
   "cell_type": "markdown",
   "id": "c6e2ca21",
   "metadata": {},
   "source": [
    "Wir können auch Wörter mehrfach aneinanderreihen. Um dies zu tun können wir ein Wort multiplizieren. Ähnlich wie bei einer mathematischen Multiplikation, schreiben wir x * Wort um das Wort x mal auszugeben.\n",
    "(Bsp. print(3*\"KZI\")\n",
    "Nutzen Sie diese Informationen um Ihren Namen 10'000 mal Auszugeben."
   ]
  },
  {
   "cell_type": "code",
   "execution_count": null,
   "id": "d2791cea",
   "metadata": {},
   "outputs": [],
   "source": []
  },
  {
   "cell_type": "markdown",
   "id": "c112e9bc-e523-4c02-bec7-cd810e265a65",
   "metadata": {},
   "source": [
    "<details>\n",
    "  <summary>Lösung:</summary>\n",
    "  <pre><code class=\"language-python\">\n",
    "print(10000*\"Max Mustermann\")\n",
    "  </code></pre>\n",
    "</details>"
   ]
  },
  {
   "cell_type": "markdown",
   "id": "e8c7ea04",
   "metadata": {},
   "source": [
    "Was passiert wenn der Faktor zu gross wird?"
   ]
  },
  {
   "cell_type": "code",
   "execution_count": null,
   "id": "c481cc88",
   "metadata": {},
   "outputs": [],
   "source": []
  },
  {
   "cell_type": "markdown",
   "id": "151c583f",
   "metadata": {},
   "source": [
    "### Aufgabe 4"
   ]
  },
  {
   "cell_type": "markdown",
   "id": "6cb2a7f0",
   "metadata": {},
   "source": [
    "Um einen Zeilenumbruch in der Ausgabe zu generieren, können wir folgendes im Text einführen:\n",
    "    \\n\n",
    "An dieser Stelle wird der Text nun geteilt.\n",
    "Schreiben Sie folgenden Text in die Konsole:\n",
    "\n",
    "Kantonsschule\n",
    "\n",
    "Zimmerberg\n",
    "\n",
    "2023\n"
   ]
  },
  {
   "cell_type": "code",
   "execution_count": null,
   "id": "e6af1909",
   "metadata": {},
   "outputs": [],
   "source": []
  },
  {
   "cell_type": "markdown",
   "id": "829fa941-ec3a-4c06-8435-29453ad29c8c",
   "metadata": {},
   "source": [
    "<details>\n",
    "  <summary>Lösung:</summary>\n",
    "  <pre><code class=\"language-python\">\n",
    "print(\"Kantonsschule\\nZimmerberg\\n2023\")\n",
    "  </code></pre>\n",
    "</details>"
   ]
  },
  {
   "cell_type": "markdown",
   "id": "61b0ae12-46f3-4c3d-a8ef-0d1fd0def3cc",
   "metadata": {},
   "source": [
    "### Aufgabe 5"
   ]
  },
  {
   "cell_type": "markdown",
   "id": "367e427a-9870-45d1-a88b-6ee4c0fd8c57",
   "metadata": {},
   "source": [
    "Schreiben Sie ein Programm, welches zwei Zahlen addiert und das Resultat ausgibt. (Bsp 3+4)"
   ]
  },
  {
   "cell_type": "code",
   "execution_count": null,
   "id": "1713e954-1e00-42d6-bb15-1fef21d97008",
   "metadata": {},
   "outputs": [],
   "source": []
  },
  {
   "cell_type": "markdown",
   "id": "5eec6add-6b2a-4752-8f7e-3628b025eb6c",
   "metadata": {},
   "source": [
    "<details>\n",
    "  <summary>Lösung:</summary>\n",
    "  <pre><code class=\"language-python\">\n",
    "print(3+4)\n",
    "  </code></pre>\n",
    "</details>"
   ]
  },
  {
   "cell_type": "markdown",
   "id": "e6a402bf-dec8-44ce-b66c-16dc7abad8e8",
   "metadata": {},
   "source": [
    "# Zusatzaufgaben:"
   ]
  },
  {
   "cell_type": "markdown",
   "id": "ae73cafc-a5a0-434e-ad55-f26c0eda9f7d",
   "metadata": {},
   "source": [
    "### Aufgabe 1"
   ]
  },
  {
   "cell_type": "markdown",
   "id": "f85d3b3f-ff49-4468-97e7-1bafc5e925a4",
   "metadata": {},
   "source": [
    "Recherchieren Sie, was LOC oder SLOC im Kontext der Informatik bedeutet, und wieviele LOC z.B Minecraft hat."
   ]
  },
  {
   "cell_type": "code",
   "execution_count": null,
   "id": "75aae94a-62c8-431d-98d7-47f3d2bdcac8",
   "metadata": {},
   "outputs": [],
   "source": []
  },
  {
   "cell_type": "markdown",
   "id": "e267f781-1086-4f56-b530-d0fa87189f8e",
   "metadata": {},
   "source": [
    "### Aufgabe 2"
   ]
  },
  {
   "cell_type": "markdown",
   "id": "f429c8eb-c5d1-498e-8f34-75c400a2d85d",
   "metadata": {},
   "source": [
    "Schreiben Sie ein Programm, welches einem 100 Lorem-Ipsum-Wörter ausgibt. (Hilfe: https://www.loremipsum.de/)\n",
    "Fügen Sie an geeigneten Stellen Zeilenumbrüche ein."
   ]
  },
  {
   "cell_type": "code",
   "execution_count": null,
   "id": "b749e6f2-500e-4ea0-8cbb-d4f02434c186",
   "metadata": {},
   "outputs": [],
   "source": []
  },
  {
   "cell_type": "markdown",
   "id": "48a17d39-d5f9-485a-ad01-6f0219469f69",
   "metadata": {},
   "source": [
    "# Zusammenfassung:"
   ]
  },
  {
   "cell_type": "markdown",
   "id": "1262b4c1-4681-4be2-866d-b20580d54402",
   "metadata": {},
   "source": [
    "In diesem Kapitel wurden folgende zentrale Konzepte eingeführt:\n",
    "\n",
    "- **`print()`** – Gibt Text oder Werte in der Konsole aus.\n",
    "- **`+`** – Bei Zahlen: Addition; bei Strings: Aneinanderhängen (Konkatenation).\n",
    "- **`*`** – Bei Zahlen: Multiplikation; bei Strings: Wiederholung.\n",
    "- **Zeilenumbruch `\\n`** – Trennt Text in eine neue Zeile.\n"
   ]
  }
 ],
 "metadata": {
  "kernelspec": {
   "display_name": "Python 3 (ipykernel)",
   "language": "python",
   "name": "python3"
  },
  "language_info": {
   "codemirror_mode": {
    "name": "ipython",
    "version": 3
   },
   "file_extension": ".py",
   "mimetype": "text/x-python",
   "name": "python",
   "nbconvert_exporter": "python",
   "pygments_lexer": "ipython3",
   "version": "3.9.7"
  }
 },
 "nbformat": 4,
 "nbformat_minor": 5
}
