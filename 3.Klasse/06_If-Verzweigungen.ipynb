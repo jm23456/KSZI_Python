{
 "cells": [
  {
   "cell_type": "markdown",
   "id": "95e77239",
   "metadata": {},
   "source": [
    "### If-Anweisungen in Python:\n",
    "\n",
    "If-Anweisungen sind ein grundlegendes Konzept in der Programmierung, das es ermöglicht, Entscheidungen im Code zu treffen und verschiedene Anweisungen abhängig von Bedingungen auszuführen. In Python verwenden wir in der Regel if, elif (else if) und else, um bedingte Anweisungen zu implementieren."
   ]
  },
  {
   "cell_type": "markdown",
   "id": "686f68a9-ca42-4617-80d9-b18f5a4e4628",
   "metadata": {},
   "source": [
    "### Kurze Repetition der Ganzklassenstunde"
   ]
  },
  {
   "cell_type": "markdown",
   "id": "7b403462-c25b-4816-a751-4a3b736af77e",
   "metadata": {},
   "source": [
    "Mittels if-Anweisung können verschiedene Entscheidungen getroffen werden. \n",
    "Hier wird das Konzept der Verzweigungen anhand eines Beispiels dargestellt:\n",
    "Angenommen Sie müssen ein System programmieren, welches minderjährigen den Zutritt verweigert, so können Sie dies mittels if-Anweisung umsetzen:\n",
    "Wir fragen zuerst das Alter einer Person ab, und entscheiden anhand dieser Zahl, ob die Person zutrittsberechtigt ist oder nicht:"
   ]
  },
  {
   "cell_type": "markdown",
   "id": "138f1427-56d4-4625-b18f-4055b2630005",
   "metadata": {},
   "source": [
    "Mittels einem \"else\"-Statement können Sie den Volljährigen nun den Zugriff erlauben und dies Mitteilen:"
   ]
  },
  {
   "cell_type": "code",
   "execution_count": null,
   "id": "ac2aa8e4-d74d-4360-a721-5c42fc9ecc5f",
   "metadata": {},
   "outputs": [],
   "source": [
    "alter = int(input(\"Wie alt sind Sie?:\"))\n",
    "if alter < 18:\n",
    "    print(\"Minderjährigen wird kein Zugriff gewährt!\")\n",
    "else:\n",
    "    print(\"Zugriff gewährt!\")"
   ]
  },
  {
   "cell_type": "markdown",
   "id": "4f81355c-ca9c-400a-90cd-edb3c43a853f",
   "metadata": {},
   "source": [
    "In Bedingungen können wir folgende Vergleiche machen:\n",
    "```bash\n",
    "a < b (kleiner als) und a <= b (kleiner gleich)\n",
    "\n",
    "a > b (grösser als) und a >= b (grösser gleich)\n",
    "  \n",
    "a == b (gleich) und a != b (nicht gleich)"
   ]
  },
  {
   "cell_type": "markdown",
   "id": "474737a8-03a9-437e-b8a4-adaf2d245106",
   "metadata": {},
   "source": [
    "Des weiteren können Formulierungen, wie sie es im Logik-Kapitel des Ganzklassenunterrichts gesehen haben, implementiert werden.\n",
    "\n",
    "Beispiel: Wenn die Sonne scheint, und es regnet oder nicht schneit soll \"Hurra\" ausgegeben werden."
   ]
  },
  {
   "cell_type": "code",
   "execution_count": null,
   "id": "b5f947bf-9e28-4be4-986f-17c1046dc05a",
   "metadata": {},
   "outputs": [],
   "source": [
    "sonnenschein = True\n",
    "regen = True\n",
    "schneefall = False\n",
    "\n",
    "if sonnenschein and (regen or (not schneefall)):\n",
    "    print(\"Hurra\")\n",
    "else:\n",
    "    print(\"Schade\")"
   ]
  },
  {
   "cell_type": "markdown",
   "id": "b8b914bc-0952-4927-acec-280b95c0507a",
   "metadata": {},
   "source": [
    "Verändern Sie im obigen Beispiel die Werte der Variable so, dass \"Schade\" ausgegeben wird."
   ]
  },
  {
   "cell_type": "markdown",
   "id": "c18e327c",
   "metadata": {},
   "source": [
    "# Einfache If-Anweisung"
   ]
  },
  {
   "cell_type": "markdown",
   "id": "24d867fd",
   "metadata": {},
   "source": [
    "Eine einfache if-Anweisung ermöglicht die Ausführung einer Aktion, wenn eine Bedingung wahr ist. Wenn die Bedingung nicht erfüllt ist, wird die Aktion übersprungen.\n",
    "\n",
    "Hier ein Beispiel dazu:"
   ]
  },
  {
   "cell_type": "code",
   "execution_count": null,
   "id": "366687b6",
   "metadata": {},
   "outputs": [],
   "source": [
    "passwort = \"123\"\n",
    "eingabe = input(\"Passwort: \")\n",
    "if eingabe == passwort:\n",
    "    print(\"Zugang gewährt!\")"
   ]
  },
  {
   "cell_type": "markdown",
   "id": "f3c220ec",
   "metadata": {},
   "source": [
    "In diesem Beispiel wird jedoch nichts ausgeführt wenn die Bedingung (eingabe == passwort) Falsch ist.\n",
    "Sollten wir im Falle, dass die Bedingung Falsch ist ebenfalls eine Rückgabe haben wollen, können wir den Befehl \"else\" verwenden."
   ]
  },
  {
   "cell_type": "code",
   "execution_count": null,
   "id": "6447b288",
   "metadata": {},
   "outputs": [],
   "source": [
    "passwort = \"123\"\n",
    "eingabe = input(\"Passwort: \")\n",
    "if eingabe == passwort:\n",
    "    print(\"Zugang gewährt!\")\n",
    "else:\n",
    "    print(\"Falsches Passwort! Kein Zugang!\")"
   ]
  },
  {
   "cell_type": "markdown",
   "id": "bcfed90f",
   "metadata": {},
   "source": [
    "Achten Sie darauf, dass ein else gleich eingerückt sein muss, wie die dazugehörige if-Anweisung. Sollte dies nicht der Fall sein, wird Ihnen Python eine Fehlermeldung (unexpected indent -> unerwartete Einrückung) ausgeben:"
   ]
  },
  {
   "cell_type": "code",
   "execution_count": null,
   "id": "1ea91cf7",
   "metadata": {},
   "outputs": [],
   "source": [
    "passwort = \"123\"\n",
    "eingabe = input(\"Passwort: \")\n",
    "if eingabe == passwort:\n",
    "    print(\"Zugang gewährt!\")\n",
    "        else:\n",
    "            print(\"Falsches Passwort! Kein Zugang!\")"
   ]
  },
  {
   "cell_type": "markdown",
   "id": "bbec753a",
   "metadata": {},
   "source": [
    "# Verschachtelte if-Anweisungen"
   ]
  },
  {
   "cell_type": "markdown",
   "id": "71c2892b",
   "metadata": {},
   "source": [
    "Im folgenden Beispiel möchten wir prüfen, ob sowohl ein Passwort korrekt eingegeben wird, und das Alter des Benutzers/der Benutzerin grösser oder gleich 18 Jahre ist. Nur wenn beide Bedingungen erfüllt sind, soll Zugriff gewährt werden."
   ]
  },
  {
   "cell_type": "markdown",
   "id": "3fc82135",
   "metadata": {},
   "source": [
    "Verschachtelte if-Anweisungen erlauben die Überprüfung von Bedingungen in Abhängigkeit von anderen Bedingungen. Dies ermöglicht komplexere Entscheidungsstrukturen."
   ]
  },
  {
   "cell_type": "code",
   "execution_count": null,
   "id": "44cb148e",
   "metadata": {},
   "outputs": [],
   "source": [
    "passwort = \"123\"\n",
    "eingabe = input(\"Passwort: \")\n",
    "alter = int(input(\"Alter: \")) # Achtung! Alter ist eine Ganzzahlige Variabel\n",
    "if eingabe == passwort:\n",
    "    if alter >= 18:\n",
    "        print(\"Zugang gewährt!\")\n",
    "    else:\n",
    "        print(\"Zu Jung! Kein Zugang!\")"
   ]
  },
  {
   "cell_type": "markdown",
   "id": "4cd8236b",
   "metadata": {},
   "source": [
    "Beim obigen Beispiel wird jedoch keine Rückmeldung gegeben, sollte das Passwort bereits Falsch sein. Wie können wir in diesem Falle ebenfalls eine Rückmeldung (\"Passwort Falsch!\")geben? Versuchen Sie dies im untenstehenden Code zu ergänzen:"
   ]
  },
  {
   "cell_type": "code",
   "execution_count": null,
   "id": "54590cad",
   "metadata": {},
   "outputs": [],
   "source": [
    "passwort = \"123\"\n",
    "eingabe = input(\"Passwort: \")\n",
    "alter = int(input(\"Alter: \")) # Achtung! Alter ist eine Ganzzahlige Variabel\n",
    "if eingabe == passwort:\n",
    "    if alter >= 18:\n",
    "        print(\"Zugang gewährt!\")\n",
    "    else:\n",
    "        print(\"Zu Jung! Kein Zugang!\")"
   ]
  },
  {
   "cell_type": "markdown",
   "id": "ffc6557a",
   "metadata": {},
   "source": [
    "Die Abfrage beider Bedingungen kann auch in einer if-Anweisung erledigt werden. Versuchen Sie die zwei Logischen Aussagen mittels \"and\" zu verknüpfen und somit den Code ein wenig kompakter zu schreiben."
   ]
  },
  {
   "cell_type": "markdown",
   "id": "64cbae11",
   "metadata": {},
   "source": [
    "# if, elif und else:"
   ]
  },
  {
   "cell_type": "markdown",
   "id": "f8e55d98",
   "metadata": {},
   "source": [
    "Die elif (else if) -Anweisung wird verwendet, um alternative Bedingungen zu überprüfen, wenn die vorherige if-Bedingung falsch ist. Dies ermöglicht die Überprüfung mehrerer Bedingungen nacheinander.\n",
    "Betrachten wir folgendes Beispiel:\n",
    "\n",
    "In einem Test können 100 Punkte erreicht werden. Statt klassischer Noten wird die Punktzahl einer Kategorie zugeordnet:\n",
    "\n",
    "A: 0 - 24 Punkte\n",
    "\n",
    "B: 25 - 49 Punkte\n",
    "\n",
    "C: 50 - 74 Punkte\n",
    "\n",
    "D: 75 - 100 Punkte\n",
    "\n",
    "Diese Kategorie soll nun mittels einem Python-Programm ermittelt werden."
   ]
  },
  {
   "cell_type": "code",
   "execution_count": null,
   "id": "33a01190",
   "metadata": {},
   "outputs": [],
   "source": [
    "p = int(input(\"Punkte: \"))\n",
    "if p > 100:\n",
    "    print(\"Falsche Punktzahl\")\n",
    "elif p >= 75:\n",
    "    print(\"D\")\n",
    "elif p >= 50:\n",
    "    print(\"C\")\n",
    "elif p >= 25:\n",
    "    print(\"B\")\n",
    "elif p >= 0:\n",
    "    print(\"A\")\n",
    "else:\n",
    "    print(\"Falsche Punktzahl\")"
   ]
  },
  {
   "cell_type": "markdown",
   "id": "b2cc323c",
   "metadata": {},
   "source": [
    "Die `elif` abfragen werden erst durchgeführt, sollte die obenstehende if-Anweisung falsch sein. Sobald die erste `elif` Bedingung wahr ist, werden die restlichen elif und else Blöcke übersprungen."
   ]
  },
  {
   "cell_type": "markdown",
   "id": "68196d78",
   "metadata": {},
   "source": [
    "# Aufgaben:"
   ]
  },
  {
   "cell_type": "markdown",
   "id": "d9741eaf",
   "metadata": {},
   "source": [
    "## Aufgabe 1:"
   ]
  },
  {
   "cell_type": "markdown",
   "id": "54021375",
   "metadata": {},
   "source": [
    "Weshalb können wir den Python-Code aus dem \"if, elif und else\"-Beispiel nicht folgendermassen schreiben?"
   ]
  },
  {
   "cell_type": "code",
   "execution_count": 1,
   "id": "b715ba18",
   "metadata": {},
   "outputs": [
    {
     "name": "stdin",
     "output_type": "stream",
     "text": [
      "Punkte:  2\n"
     ]
    },
    {
     "name": "stdout",
     "output_type": "stream",
     "text": [
      "A\n"
     ]
    }
   ],
   "source": [
    "p = int(input(\"Punkte: \"))\n",
    "if p > 100:\n",
    "    print(\"Falsche Punktzahl\")\n",
    "if p >= 75:\n",
    "    print(\"D\")\n",
    "if p >= 50:\n",
    "    print(\"C\")\n",
    "if p >= 25:\n",
    "    print(\"B\")\n",
    "if p >= 0:\n",
    "    print(\"A\")\n",
    "else:\n",
    "    print(\"Falsche Punktzahl\")"
   ]
  },
  {
   "cell_type": "markdown",
   "id": "60f206a8",
   "metadata": {},
   "source": [
    "Versuche in eigenen Worten zu erklären, was schief läuft beim Testen:"
   ]
  },
  {
   "cell_type": "markdown",
   "id": "6fcaef91",
   "metadata": {},
   "source": []
  },
  {
   "cell_type": "markdown",
   "id": "0e002cc3-6ef2-4baa-a80a-180e0ade7442",
   "metadata": {},
   "source": [
    "<details>\n",
    "  <summary>Lösung:</summary>\n",
    "  <pre>\n",
    "Anders als bei elif, werden nacheinanderfolgende if-Anweisungen alle einzeln ausgeführt.\n",
    "Das heisst, wenn wir z.B. p = 100 setzen, werden alle folgenden if-Anweisungen wahr sein. Es wird folglich auch \"D,C,B,A\" ausgegeben, da alle Bedingungen Wahr sind.\n",
    "  </pre>\n",
    "</details>"
   ]
  },
  {
   "cell_type": "markdown",
   "id": "5a2a6736",
   "metadata": {},
   "source": [
    "## Aufgabe 2:"
   ]
  },
  {
   "cell_type": "markdown",
   "id": "13c2e2a4",
   "metadata": {},
   "source": [
    "Weshalb können wir den Python-Code aus dem \"if, elif und else\"-Beispiel nicht folgendermassen schreiben?"
   ]
  },
  {
   "cell_type": "code",
   "execution_count": null,
   "id": "dd8c9ed6",
   "metadata": {},
   "outputs": [],
   "source": [
    "p = int(input(\"Punkte: \"))\n",
    "if p < 0:\n",
    "    print(\"Falsche Punktzahl\")\n",
    "elif p >= 0:\n",
    "    print(\"A\")\n",
    "elif p >= 25:\n",
    "    print(\"B\")\n",
    "elif p >= 50:\n",
    "    print(\"C\")\n",
    "elif p >= 75:\n",
    "    print(\"D\")\n",
    "else:\n",
    "    print(\"Falsche Punktzahl\")"
   ]
  },
  {
   "cell_type": "markdown",
   "id": "aba622cb",
   "metadata": {},
   "source": [
    "Versuche in eigenen Worten zu erklären, was schief läuft beim Testen:"
   ]
  },
  {
   "cell_type": "markdown",
   "id": "8d293b9e-d09f-448b-91c6-95f8d36321dd",
   "metadata": {},
   "source": []
  },
  {
   "cell_type": "markdown",
   "id": "2c675f14-e81d-4d7b-b263-9ea146f1d45e",
   "metadata": {},
   "source": [
    "<details>\n",
    "  <summary>Lösung:</summary>\n",
    "  <pre>\n",
    "Hier wurde die Reihenfolge geändert. Wenn nun aber eine Punktzahl von 30 erreicht wird, was einer Kategorie B entspricht wird das Programm bereits bei der Bedingung \"elif p >= 0:\" einen Wahrheitswert True zurückgeben. denn 30 ist ja >= 0. Demnach gibt das Programm fälschlicherweise die Kategorie A zurück.\n",
    "  </pre>\n",
    "</details>"
   ]
  },
  {
   "cell_type": "markdown",
   "id": "d3199262",
   "metadata": {},
   "source": [
    "## Aufgabe 3:"
   ]
  },
  {
   "cell_type": "markdown",
   "id": "26195dd5",
   "metadata": {},
   "source": [
    "Implementieren Sie ein Python-Programm, die zwei Zahlen vergleicht und ausgibt, welche der beiden Zahlen größer ist. Falls beide Zahlen gleich sind, geben Sie aus, dass sie gleich sind."
   ]
  },
  {
   "cell_type": "code",
   "execution_count": null,
   "id": "1dc8df7d",
   "metadata": {},
   "outputs": [],
   "source": []
  },
  {
   "cell_type": "markdown",
   "id": "fbd0f5c7-af5b-4da5-bf76-8bdb8f5dd36f",
   "metadata": {},
   "source": [
    "<details>\n",
    "  <summary>Lösung:</summary>\n",
    "  <pre>§\n",
    "x = 5\n",
    "y = 10\n",
    "if x == y:\n",
    "    print(\"Die Zahlen sind gleich.\")\n",
    "elif x < y:\n",
    "    print(\"x ist kleiner als y.\")\n",
    "else:\n",
    "    print(\"x ist grösser als y.\")\n",
    "  </pre>\n",
    "</details>"
   ]
  },
  {
   "cell_type": "markdown",
   "id": "89fc0598",
   "metadata": {},
   "source": [
    "## Aufgabe 4:"
   ]
  },
  {
   "cell_type": "markdown",
   "id": "be5863ee",
   "metadata": {},
   "source": [
    "Schreiben Sie Python-Code, der den Endpreis eines Produkts berechnet. Wenn der Preis des Produkts größer oder gleich 100 ist, wird ein Rabatt von 10% gewährt. Berechnen Sie den Endpreis und geben Sie ihn aus."
   ]
  },
  {
   "cell_type": "code",
   "execution_count": null,
   "id": "0f3941aa",
   "metadata": {},
   "outputs": [],
   "source": []
  },
  {
   "cell_type": "markdown",
   "id": "b9ccf834-a1f7-47ff-9970-5a72b660bfea",
   "metadata": {},
   "source": [
    "<details>\n",
    "  <summary>Lösung:</summary>\n",
    "  <pre>\n",
    "Hier wurde die Reihenfolge geändert. Wenn nun aber eine Punktzahl von 30 erreicht wird, was einer Kategorie B entspricht wird das Programm bereits bei der Bedingung \"elif p >= 0:\" einen Wahrheitswert True zurückgeben. denn 30 ist ja >= 0. Demnach gibt das Programm fälschlicherweise die Kategorie A zurück.\n",
    "  </pre>\n",
    "</details>"
   ]
  },
  {
   "cell_type": "markdown",
   "id": "36fe53ee",
   "metadata": {},
   "source": [
    "## Aufgabe 5:"
   ]
  },
  {
   "cell_type": "markdown",
   "id": "a238ef24",
   "metadata": {},
   "source": [
    "Schreiben Sie ein Programm, das das Alter eines Benutzers abfragt. Basierend auf dem Alter soll das Programm die Person in eine der folgenden Klassen einteilen:\n",
    "\n",
    "Kind (0-9)\n",
    "\n",
    "Jugendlicher(10-18)\n",
    "\n",
    "Erwachsener(18-59)\n",
    "\n",
    "Senior(60+)"
   ]
  },
  {
   "cell_type": "code",
   "execution_count": null,
   "id": "5dc96a84",
   "metadata": {},
   "outputs": [],
   "source": []
  }
 ],
 "metadata": {
  "kernelspec": {
   "display_name": "Python 3 (ipykernel)",
   "language": "python",
   "name": "python3"
  },
  "language_info": {
   "codemirror_mode": {
    "name": "ipython",
    "version": 3
   },
   "file_extension": ".py",
   "mimetype": "text/x-python",
   "name": "python",
   "nbconvert_exporter": "python",
   "pygments_lexer": "ipython3",
   "version": "3.12.6"
  }
 },
 "nbformat": 4,
 "nbformat_minor": 5
}
