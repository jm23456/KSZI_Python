{
 "cells": [
  {
   "cell_type": "markdown",
   "id": "455b9fe6",
   "metadata": {},
   "source": [
    "# Variablen"
   ]
  },
  {
   "cell_type": "markdown",
   "id": "21a04474",
   "metadata": {},
   "source": [
    "Variablen sind \"Speicherorte\" für Daten in einem Programm. Sie sind eine Möglichkeit, Informationen Namen zu geben, um sie später zu erreichen.\n",
    "\n",
    "Jede Variable hat einen Namen; ein Beispiel für einen Variablennamen ist meineGluecksZahl. Um Informationen in einer Variable zu speichern, nutzt man das Gleich-Zeichen in folgendem Kontext:\n",
    "\n",
    "der Variablenname = der zu speichernde Wert"
   ]
  },
  {
   "cell_type": "code",
   "execution_count": null,
   "id": "50764271",
   "metadata": {},
   "outputs": [],
   "source": [
    "meinjahrgang = 1995"
   ]
  },
  {
   "cell_type": "markdown",
   "id": "41b7fa04",
   "metadata": {},
   "source": [
    "Die obenstehende Python-Zeile speichert meinen Jahrgang in der Variable \"meinjahrgang\".\n",
    "Danach wird Python jedesmal, wenn du den Variablennamen meinjahrgang schreibst, den gespeicherten Wert nutzen."
   ]
  },
  {
   "cell_type": "markdown",
   "id": "7b6c707f",
   "metadata": {},
   "source": [
    "Ändern Sie die Variable \"meinjahrgang\" zu ihrem Jahrgang und führen Sie \"Run\" auf der Zeile aus. (Somit speichern wir den Wert neu)."
   ]
  },
  {
   "cell_type": "markdown",
   "id": "87027aa0",
   "metadata": {},
   "source": [
    "Hier ist ein kleines Beispiel, in dem Variablen genutzt werden. Es hat mehr als eine Code-Zeile: Python wird zunächst die erste Zeile ausführen, dann die zweite, und so weiter, bis die letzte Zeile erreicht wurde. Klicken Sie den Run-Button, um zu sehen, was es macht."
   ]
  },
  {
   "cell_type": "code",
   "execution_count": null,
   "id": "12ae81fd",
   "metadata": {},
   "outputs": [],
   "source": [
    "print(meinjahrgang)\n",
    "print(meinjahrgang + 1)\n",
    "print(meinjahrgang)"
   ]
  },
  {
   "cell_type": "markdown",
   "id": "d347c1ca",
   "metadata": {},
   "source": [
    "Wir sehen, dass der Wert der Variable nicht geändert wurde (trotz dem + 1 rechnen). Dies liegt daran, dass wir lediglich einen print-Befehl ausgeführt haben und nicht die Variabel geändert haben.\n",
    "\n",
    "Um eine Variable tatsächlich zu ändern müssen wir sie überschreiben:"
   ]
  },
  {
   "cell_type": "code",
   "execution_count": null,
   "id": "3ee8d264",
   "metadata": {},
   "outputs": [],
   "source": [
    "print(meinjahrgang)\n",
    "meinjahrgang = meinjahrgang + 1\n",
    "print(meinjahrgang)"
   ]
  },
  {
   "cell_type": "markdown",
   "id": "8b0bc9bc",
   "metadata": {},
   "source": [
    "Hurra wir haben soeben unseren Jahrgang um ein Jahr geändert und sind ein Jahr jünger geworden."
   ]
  },
  {
   "cell_type": "markdown",
   "id": "90e26d12",
   "metadata": {},
   "source": [
    "Hier haben wir auch den Plus-Operator (+) eingeführt, der zwei Zahlen addiert. Genauso gibt es auch Operatoren für Subtraktion (-), Multiplikation (*) und Division (/). Wir werden uns diese noch genauer anschauen."
   ]
  },
  {
   "cell_type": "markdown",
   "id": "e38201a5",
   "metadata": {},
   "source": []
  },
  {
   "cell_type": "markdown",
   "id": "a4563365",
   "metadata": {},
   "source": [
    "### Eingabefeld"
   ]
  },
  {
   "cell_type": "markdown",
   "id": "518bb652",
   "metadata": {},
   "source": [
    "Wir als Nutzer können Python auch via Eingabfeld Variablen Werte zuweisen.\n",
    "\n",
    "So können wir zum Beispiel den Nutzer Fragen wie alt Er/Sie ist, und diesen Wert in einer Variable \"alter\" Speichern:"
   ]
  },
  {
   "cell_type": "code",
   "execution_count": null,
   "id": "c4e12c51",
   "metadata": {},
   "outputs": [],
   "source": [
    "alter = input(\"Wie alt bist du?\")\n",
    "print(alter)"
   ]
  },
  {
   "cell_type": "markdown",
   "id": "a5e02d7c",
   "metadata": {},
   "source": [
    "# Aufgaben"
   ]
  },
  {
   "cell_type": "markdown",
   "id": "3eb16e50",
   "metadata": {},
   "source": [
    "### Aufgabe 1:"
   ]
  },
  {
   "cell_type": "markdown",
   "id": "b30b5baa",
   "metadata": {},
   "source": [
    "Berechnen Sie von Hand, was der Wert der Variablen am Ende des folgenden Codes sein wird:\n",
    "    \n",
    "    first = 2\n",
    "    second = 3\n",
    "    third = first * second\n",
    "    second = third - first\n",
    "    first = first + second + third\n",
    "    third = second * first\n",
    "\n",
    "(Schreiben Sie sich Zeile für Zeile auf, wie der Wert der Variable nach dem Ausführen der Zeile sein wird)\n",
    "\n",
    "Nutzen Sie anschliessend das folgende Programmier-Feld, um zu überprüfen ob ihre Berechnungen stimmen:"
   ]
  },
  {
   "cell_type": "code",
   "execution_count": null,
   "id": "d07a6497",
   "metadata": {},
   "outputs": [],
   "source": []
  },
  {
   "cell_type": "markdown",
   "id": "ba6dd17e-2a83-41f6-a27c-7948e55b2436",
   "metadata": {},
   "source": [
    "<details>\n",
    "  <summary>Lösung:</summary>\n",
    "\n",
    "  <pre><code class=\"language-python\">\n",
    "first = 2\n",
    "second = 3\n",
    "third = first * second\n",
    "second = third - first\n",
    "first = first + second + third\n",
    "third = second * first\n",
    "      \n",
    "print(first,second,third)\n",
    "  </code></pre>\n",
    "</details>"
   ]
  },
  {
   "cell_type": "markdown",
   "id": "7203d60b",
   "metadata": {},
   "source": [
    "### Aufgabe 2:"
   ]
  },
  {
   "cell_type": "markdown",
   "id": "bd556c55",
   "metadata": {},
   "source": [
    "Wieso gibt folgdender Code eine Fehlermeldung aus?"
   ]
  },
  {
   "cell_type": "code",
   "execution_count": null,
   "id": "f80e205c",
   "metadata": {},
   "outputs": [],
   "source": [
    "print(lösung)\n",
    "lösung = 3-2"
   ]
  },
  {
   "cell_type": "markdown",
   "id": "a378e577",
   "metadata": {},
   "source": []
  },
  {
   "cell_type": "markdown",
   "id": "27a1ad53-2e1f-45ce-b57c-8ccc7f737ce5",
   "metadata": {},
   "source": [
    "<details>\n",
    "  <summary>Lösung:</summary>\n",
    "\n",
    "  <pre><code class=\"language-python\">\n",
    "Da die Variable vor ihrer Deklaration aufgerufen wird. Die Zeilen müssen vertauscht werden.\n",
    "  </code></pre>\n",
    "</details>"
   ]
  },
  {
   "cell_type": "markdown",
   "id": "411ae025",
   "metadata": {},
   "source": [
    "### Aufgabe 3:"
   ]
  },
  {
   "cell_type": "markdown",
   "id": "ed96cc92-0e77-468f-8b77-823d7a2184b1",
   "metadata": {},
   "source": [
    "Wieso gibt folgdender Code eine Fehlermeldung aus?"
   ]
  },
  {
   "cell_type": "code",
   "execution_count": null,
   "id": "652a606e",
   "metadata": {},
   "outputs": [],
   "source": [
    "x = 4\n",
    "print(x)\n",
    "4 = x\n",
    "print(x)"
   ]
  },
  {
   "cell_type": "markdown",
   "id": "ae449b6f",
   "metadata": {},
   "source": []
  },
  {
   "cell_type": "markdown",
   "id": "a2b96fda-1a8e-4650-96f0-93c0c864f140",
   "metadata": {},
   "source": [
    "<details>\n",
    "  <summary>Lösung:</summary>\n",
    "\n",
    "  <pre><code class=\"language-python\">\n",
    "Wir können keine Zuweisungen der Form 4 = x machen, da \"4\" kein gültiger Name einer Variable ist.\n",
    "  </code></pre>\n",
    "</details>"
   ]
  },
  {
   "cell_type": "markdown",
   "id": "d26918ee",
   "metadata": {},
   "source": [
    "### Aufgabe 4:"
   ]
  },
  {
   "cell_type": "markdown",
   "id": "7a7fc4ef-f775-4593-a850-64977398a5c4",
   "metadata": {},
   "source": [
    "Berechnen Sie von Hand, was der Wert der Variable am Ende des folgenden Codes sein wird:\n",
    "    \n",
    "    x = 10\n",
    "    x = x + x\n",
    "    x = x - 5\n",
    "    x = x * 2\n",
    "    x = x"
   ]
  },
  {
   "cell_type": "markdown",
   "id": "457e7389-dad7-4c33-8859-d9f4a10cadd5",
   "metadata": {},
   "source": []
  },
  {
   "cell_type": "markdown",
   "id": "1028954f-6632-4231-9fb3-0084ebc804f0",
   "metadata": {},
   "source": [
    "<details>\n",
    "  <summary>Lösung:</summary>\n",
    "\n",
    "  <pre><code class=\"language-python\">\n",
    "x = 30\n",
    "  </code></pre>\n",
    "</details>"
   ]
  },
  {
   "cell_type": "markdown",
   "id": "dd379046",
   "metadata": {},
   "source": [
    "### Aufgabe 5:"
   ]
  },
  {
   "cell_type": "markdown",
   "id": "da1226ab",
   "metadata": {},
   "source": [
    "Schreiben Sie ein Programm, das Köpfe, Schultern, Knie und Zehen auf einer Party ausgibt.\n",
    "\n",
    "Eine Variable personen ist schon bekannt, und die Anzahl der Personen auf der Party ist darin bereits gespeichert.\n",
    "Der Code muss 4 Variablen definieren: \n",
    "    koepfe (Anzahl der Köpfe)\n",
    "    schultern (Anzahl der Schultern)\n",
    "    knie (Anzahl der Knie)\n",
    "    zehen (Anzahl der Zehen)\n",
    "\n",
    "Geben Sie die Werte der Variablen mittels print() aus.\n",
    "\n",
    "--> Testen Sie ihr Programm mit dem Wert personen = 10"
   ]
  },
  {
   "cell_type": "code",
   "execution_count": null,
   "id": "6533029e-9b3c-427e-ba83-01577437797b",
   "metadata": {},
   "outputs": [],
   "source": []
  },
  {
   "cell_type": "markdown",
   "id": "5740a323-20e8-434d-a639-bfd075cea3be",
   "metadata": {},
   "source": [
    "<details>\n",
    "  <summary>Lösung:</summary>\n",
    "\n",
    "  <pre><code class=\"language-python\">\n",
    "p = input(\"Anzahl Personen\")\n",
    "\n",
    "k = p\n",
    "s = 2 * p\n",
    "k = 2 * p\n",
    "z = 10 * p\n",
    "\n",
    "print(p,s,k,z)\n",
    "  </code></pre>\n",
    "</details>"
   ]
  },
  {
   "cell_type": "markdown",
   "id": "862b8985",
   "metadata": {},
   "source": [
    "### Aufgabe 6:"
   ]
  },
  {
   "cell_type": "markdown",
   "id": "b50f4ce6",
   "metadata": {},
   "source": [
    "Schreiben Sie ein Programm, das die Werte zweier Variablen vertauscht.\n",
    "Es sind zwei Variablen x und y vordefiniert, die numerische Werte enthalten.\n",
    "Nach der Ausführung des Programms muss der alte Wert von x in der Variable y zu finden sein und der alte Wert von y in der Variable x."
   ]
  },
  {
   "cell_type": "code",
   "execution_count": null,
   "id": "9e64e248",
   "metadata": {},
   "outputs": [],
   "source": []
  },
  {
   "cell_type": "markdown",
   "id": "4e33d871-b3aa-46b0-8371-b734a2730745",
   "metadata": {},
   "source": [
    "<details>\n",
    "  <summary>Lösung:</summary>\n",
    "\n",
    "  <pre><code class=\"language-python\">\n",
    "# Lösung 1:\n",
    "\n",
    "x = 10\n",
    "y = 5\n",
    "z = y\n",
    "y = x\n",
    "x = z\n",
    "\n",
    "# Lösung 2: (Kompakter)\n",
    "x = 10\n",
    "y = 5\n",
    "x = y, y = x\n",
    "print(x,y)\n",
    "  </code></pre>\n",
    "</details>"
   ]
  },
  {
   "cell_type": "markdown",
   "id": "9ce0d0b6",
   "metadata": {},
   "source": [
    "### Aufgabe 7:"
   ]
  },
  {
   "cell_type": "markdown",
   "id": "3a230cfc",
   "metadata": {},
   "source": [
    "Schreiben Sie ein Programm, welches den Nutzer nach seinem/ihrem Namen fragt, und anschliessend \"Hallo (name)\" ausgibt."
   ]
  },
  {
   "cell_type": "code",
   "execution_count": null,
   "id": "e32a0b6a",
   "metadata": {},
   "outputs": [],
   "source": []
  },
  {
   "cell_type": "markdown",
   "id": "2e00a3e6-00ae-43f5-83dc-158195763084",
   "metadata": {},
   "source": [
    "<details>\n",
    "  <summary>Lösung:</summary>\n",
    "\n",
    "  <pre><code class=\"language-python\">\n",
    "name = input(\"Name:\")\n",
    "print(\"Hallo\",name)\n",
    "# Variante 2:\n",
    "print(\"Hallo \" + name\")\n",
    "  </code></pre>\n",
    "</details>"
   ]
  },
  {
   "cell_type": "markdown",
   "id": "9800fa3e-6aa4-488b-8970-7a5f1408f6ec",
   "metadata": {},
   "source": [
    "### Aufgabe 8:"
   ]
  },
  {
   "cell_type": "markdown",
   "id": "5ec8facb-16ba-4913-9408-892b7f66f579",
   "metadata": {},
   "source": [
    "Schreiben Sie ein Programm, welches Sie nach 4 Zahlen fragt, und ihnen anschliessend die Differenz (a-b-c-d) und die Summe dieser vier Zahlen ausgibt."
   ]
  },
  {
   "cell_type": "code",
   "execution_count": null,
   "id": "245f72f0-ae48-49be-b83f-1b2edd881f61",
   "metadata": {},
   "outputs": [],
   "source": []
  },
  {
   "cell_type": "markdown",
   "id": "437d23bc-950b-46b5-8aef-12d2f43d4843",
   "metadata": {},
   "source": [
    "<details>\n",
    "  <summary>Lösung:</summary>\n",
    "\n",
    "  <pre><code class=\"language-python\">\n",
    "a = input(\"Zahl 1\")\n",
    "b = input(\"Zahl 2\")\n",
    "c = input(\"Zahl 3\")\n",
    "d = input(\"Zahl 4\")\n",
    "\n",
    "print(\"Summe\", a+b+c+d)\n",
    "print(\"Differenz\",a-b-c-d)\n",
    "  </code></pre>\n",
    "</details>"
   ]
  },
  {
   "cell_type": "markdown",
   "id": "2643af39-725d-48d0-9e22-8de0942cb66b",
   "metadata": {},
   "source": [
    "# Zusammenfassung"
   ]
  },
  {
   "cell_type": "markdown",
   "id": "e3bd7a4d-e786-4cab-83c6-a852cee51794",
   "metadata": {},
   "source": []
  },
  {
   "cell_type": "markdown",
   "id": "1e66a930-126a-40a6-9543-54d9edb341dc",
   "metadata": {},
   "source": [
    "In diesem Kapitel wurden folgende zentrale Konzepte eingeführt und geübt:\n",
    "\n",
    "- **Variable** – Ein benannter Speicherplatz für Daten.\n",
    "- **Zuweisung (`=`)** – Weist einer Variablen einen Wert zu.\n",
    "- **`print()`** – Gibt Werte oder Text auf der Konsole aus.\n",
    "- **`input()`** – Liest Benutzereingaben als String ein.\n",
    "- **Operatoren** – Mathematische (`+ - * / // %`) oder String-Operatoren.\n"
   ]
  }
 ],
 "metadata": {
  "kernelspec": {
   "display_name": "Python 3 (ipykernel)",
   "language": "python",
   "name": "python3"
  },
  "language_info": {
   "codemirror_mode": {
    "name": "ipython",
    "version": 3
   },
   "file_extension": ".py",
   "mimetype": "text/x-python",
   "name": "python",
   "nbconvert_exporter": "python",
   "pygments_lexer": "ipython3",
   "version": "3.9.7"
  }
 },
 "nbformat": 4,
 "nbformat_minor": 5
}
